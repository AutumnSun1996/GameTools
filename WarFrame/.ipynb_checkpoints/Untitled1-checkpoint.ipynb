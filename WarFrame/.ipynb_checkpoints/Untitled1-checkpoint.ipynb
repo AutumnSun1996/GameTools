{
 "cells": [
  {
   "cell_type": "code",
   "execution_count": 7,
   "metadata": {
    "collapsed": true
   },
   "outputs": [],
   "source": [
    "text=\"\"\"VoidProjectionsSilverD.png 中纪 B2 遗物 11.11%\t50 Endo64.png 内融核心 6.25%\t80 Endo64.png 内融核心 2.26%\n",
    "VoidProjectionsSilverD.png 中纪 S7 遗物 11.11%\tVoidProjectionsGoldD.png 后纪 V7 遗物 6.25%\tVoidProjectionsGoldD.png 后纪 A3 遗物 9.68%\n",
    "VoidProjectionsSilverD.png 中纪 M1 遗物 11.11%\tVoidProjectionsGoldD.png 后纪 K2 遗物 6.25%\tVoidProjectionsGoldD.png 后纪 V7 遗物 9.68%\n",
    "VoidProjectionsSilverD.png 中纪 Z1 遗物 11.11%\tVoidProjectionsGoldD.png 后纪 O2 遗物 6.25%\tVoidProjectionsGoldD.png 后纪 H3 遗物 9.68%\n",
    "VoidProjectionsSilverD.png 中纪 B4 遗物 11.11%\tVoidProjectionsGoldD.png 后纪 V6 遗物 6.25%\tVoidProjectionsGoldD.png 后纪 N5 遗物 9.68%\n",
    "VoidProjectionsSilverD.png 中纪 K1 遗物 11.11%\tVoidProjectionsGoldD.png 后纪 H3 遗物 6.25%\tVoidProjectionsGoldD.png 后纪 V6 遗物 9.68%\n",
    "FusionCorePackSilversingle.png 戏法增幅 11.11%\tVoidProjectionsGoldD.png 后纪 A3 遗物 6.25%\tVoidProjectionsGoldD.png 后纪 E2 遗物 9.68%\n",
    "FusionCorePackSilversingle.png 弹匣增幅 11.11%\tVoidProjectionsGoldD.png 后纪 E2 遗物 6.25%\tVoidProjectionsGoldD.png 后纪 K2 遗物 9.68%\n",
    "FusionCorePackSilversingle.png 生命力 11.11%\tVoidProjectionsGoldD.png 后纪 N5 遗物 6.25%\tVoidProjectionsGoldD.png 后纪 O2 遗物 9.68%\n",
    "FusionCorePackSilversingle.png 电击触点 6.25%\tFusionCorePackSilversingle.png 盗贼大师 2.26%\n",
    "FusionCorePackSilversingle.png 黄蜂蛰刺 6.25%\tFusionCorePackSilversingle.png 分裂膛室 2.26%\n",
    "FusionCorePackSilversingle.png 简化 6.25%\tFusionCorePackSilversingle.png 破灭 2.26%\n",
    "FusionCorePackSilversingle.png 地狱弹膛 6.25%\tFusionCorePackSilversingle.png 合金钻头 2.26%\n",
    "FusionCorePackSilversingle.png 深层冷冻 6.25%\tFusionCorePackSilversingle.png 持久力 2.26%\n",
    "FusionCorePackSilversingle.png 北风 6.25%\tFusionCorePackSilversingle.png 延伸 2.26%\n",
    "FusionCorePackSilversingle.png 增幅线圈 6.25%\tFusionCorePackSilversingle.png 痉挛 2.26%\n",
    "FusionCorePackSilversingle.png 翻筋斗 2.26%\n",
    "FusionCorePackSilversingle.png 弱点感应 2.26%\"\"\""
   ]
  },
  {
   "cell_type": "code",
   "execution_count": 8,
   "metadata": {
    "collapsed": true
   },
   "outputs": [],
   "source": [
    "import re"
   ]
  },
  {
   "cell_type": "code",
   "execution_count": 9,
   "metadata": {
    "collapsed": true
   },
   "outputs": [],
   "source": [
    "items = re.findall(\"后纪 .. 遗物 ([.\\d]+)%\", text)"
   ]
  },
  {
   "cell_type": "code",
   "execution_count": 10,
   "metadata": {},
   "outputs": [
    {
     "data": {
      "text/plain": [
       "1.2744000000000002"
      ]
     },
     "execution_count": 10,
     "metadata": {},
     "output_type": "execute_result"
    }
   ],
   "source": [
    "sum([float(i) for i in items]) / 100"
   ]
  },
  {
   "cell_type": "code",
   "execution_count": 12,
   "metadata": {},
   "outputs": [
    {
     "data": {
      "text/plain": [
       "0.2832"
      ]
     },
     "execution_count": 12,
     "metadata": {},
     "output_type": "execute_result"
    }
   ],
   "source": [
    "1.2744/4.5"
   ]
  },
  {
   "cell_type": "code",
   "execution_count": 13,
   "metadata": {},
   "outputs": [
    {
     "data": {
      "text/plain": [
       "0.5714285714285714"
      ]
     },
     "execution_count": 13,
     "metadata": {},
     "output_type": "execute_result"
    }
   ],
   "source": [
    "2/3.5"
   ]
  },
  {
   "cell_type": "code",
   "execution_count": 14,
   "metadata": {},
   "outputs": [
    {
     "data": {
      "text/plain": [
       "0.5162666666666667"
      ]
     },
     "execution_count": 14,
     "metadata": {},
     "output_type": "execute_result"
    }
   ],
   "source": [
    "0.7744/1.5"
   ]
  },
  {
   "cell_type": "code",
   "execution_count": null,
   "metadata": {
    "collapsed": true
   },
   "outputs": [],
   "source": []
  }
 ],
 "metadata": {
  "kernelspec": {
   "display_name": "Python 3",
   "language": "python",
   "name": "python3"
  },
  "language_info": {
   "codemirror_mode": {
    "name": "ipython",
    "version": 3
   },
   "file_extension": ".py",
   "mimetype": "text/x-python",
   "name": "python",
   "nbconvert_exporter": "python",
   "pygments_lexer": "ipython3",
   "version": "3.6.2"
  }
 },
 "nbformat": 4,
 "nbformat_minor": 2
}
