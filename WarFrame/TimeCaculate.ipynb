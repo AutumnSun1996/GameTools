{
 "cells": [
  {
   "cell_type": "code",
   "execution_count": 25,
   "metadata": {
    "collapsed": true
   },
   "outputs": [],
   "source": [
    "import numpy as np\n",
    "import re"
   ]
  },
  {
   "cell_type": "code",
   "execution_count": 31,
   "metadata": {},
   "outputs": [],
   "source": [
    "with open(r\"D:\\Documents\\Code\\AutoHotkey\\TimeCount.txt\", \"r\") as fl:\n",
    "    text = fl.read()"
   ]
  },
  {
   "cell_type": "code",
   "execution_count": 37,
   "metadata": {},
   "outputs": [
    {
     "name": "stdout",
     "output_type": "stream",
     "text": [
      "1341.52380952 167.69047619 5.963367883\n",
      "1072.73076923 134.091346154 7.45760281094\n",
      "1072.45454545 134.056818182 7.4595236077\n",
      "977.398058252 122.174757282 8.18499682136\n"
     ]
    }
   ],
   "source": [
    "\n",
    "def get_mean(line):\n",
    "    if not line:\n",
    "        return\n",
    "    data = np.array([int(i) for i in line.split(\"-\") if i])\n",
    "    diff = data[1:] - data[:-1]\n",
    "    print(diff.mean(), diff.mean()/8, 8000/diff.mean())\n",
    "    \n",
    "for line in text.splitlines():\n",
    "    get_mean(line)"
   ]
  },
  {
   "cell_type": "code",
   "execution_count": 22,
   "metadata": {},
   "outputs": [
    {
     "data": {
      "text/plain": [
       "(1340.909090909091, 167.61363636363637)"
      ]
     },
     "execution_count": 22,
     "metadata": {},
     "output_type": "execute_result"
    }
   ],
   "source": [
    "tmp.mean(), tmp.mean()/8"
   ]
  },
  {
   "cell_type": "code",
   "execution_count": 22,
   "metadata": {},
   "outputs": [
    {
     "name": "stdout",
     "output_type": "stream",
     "text": [
      "下一次开始：0小时37分后\n",
      "2018-04-01 14:15:00\n",
      "2018-04-01 16:45:00\n",
      "2018-04-01 19:15:00\n",
      "2018-04-01 21:45:00\n",
      "2018-04-02 10:15:00\n"
     ]
    }
   ],
   "source": [
    "import datetime\n",
    "\n",
    "with open('eidon-start-time.txt', 'r') as fl:\n",
    "    timestamp = float(fl.read())\n",
    "    \n",
    "cur = datetime.datetime.fromtimestamp(timestamp)\n",
    "now = datetime.datetime.now()\n",
    "latest = now - datetime.timedelta(minutes=15)\n",
    "dt = datetime.timedelta(minutes=150)\n",
    "\n",
    "while cur < latest:\n",
    "    cur = cur + dt\n",
    "    \n",
    "seconds = (cur - now).total_seconds()\n",
    "if seconds < 0:\n",
    "    print(\"正在进行中\")\n",
    "else:\n",
    "    print(\"下一次开始：{:.0f}小时{:.0f}分后\".format(seconds // 3600, (seconds // 60) % 60))\n",
    "    \n",
    "with open('eidon-start-time.txt', 'w') as fl:\n",
    "    fl.write('%f' % (cur - dt).timestamp())\n",
    "    \n",
    "total = 0\n",
    "while total < 5:\n",
    "    if cur.hour > 8 and cur.hour < 23:\n",
    "        print(cur)\n",
    "        total += 1\n",
    "    cur = cur + dt"
   ]
  },
  {
   "cell_type": "code",
   "execution_count": null,
   "metadata": {
    "collapsed": true
   },
   "outputs": [],
   "source": []
  },
  {
   "cell_type": "code",
   "execution_count": null,
   "metadata": {
    "collapsed": true
   },
   "outputs": [],
   "source": [
    "items=\"\"\"\n",
    "燃焰标枪\t主要\t5\n",
    "Atlas兜围头盔\t外观\t2\n",
    "Inaros阿努比斯头盔\t外观\t5\n",
    "Inaros卡诺匹斯头盔\t外观\t3\n",
    "Ivara洛克斯利头盔\t外观\t1\n",
    "Ivara头罩头盔\t外观\t3\n",
    "Nezha奇尔卡头盔\t外观\t5\n",
    "Nidus朊毒头盔\t外观\t2\n",
    "Titania风之妖精头盔\t外观\t2\n",
    "Wukong大圣头盔\t外观\t2\n",
    "脓痘\t次要\t2\n",
    "静电能量导引枪\t次要\t3\n",
    "破碎的战争之剑\t近战\t2\n",
    "灼蚀变体镰\t近战\t5\n",
    "技巧之剑\t近战\t5\n",
    "蚂蝗\t近战\t3\n",
    "欧玛\t近战\t4\n",
    "战争之剑\t近战\t5\n",
    "Scimitar 机身\t零件\t4\n",
    "\"\"\".splitlines()"
   ]
  },
  {
   "cell_type": "code",
   "execution_count": 30,
   "metadata": {},
   "outputs": [
    {
     "data": {
      "text/plain": [
       "'00:15'"
      ]
     },
     "execution_count": 30,
     "metadata": {},
     "output_type": "execute_result"
    }
   ],
   "source": [
    "now = datetime.datetime.now() - datetime.timedelta(minutes=15)\n",
    "t0 = datetime.datetime(1970,1,31)\n",
    "\"{:%H:%M}\".format(t0 + datetime.timedelta(minutes=15))"
   ]
  },
  {
   "cell_type": "code",
   "execution_count": 47,
   "metadata": {
    "scrolled": true
   },
   "outputs": [
    {
     "data": {
      "text/plain": [
       "(-900.0,\n",
       " ['__abs__',\n",
       "  '__add__',\n",
       "  '__bool__',\n",
       "  '__class__',\n",
       "  '__delattr__',\n",
       "  '__dir__',\n",
       "  '__divmod__',\n",
       "  '__doc__',\n",
       "  '__eq__',\n",
       "  '__floordiv__',\n",
       "  '__format__',\n",
       "  '__ge__',\n",
       "  '__getattribute__',\n",
       "  '__gt__',\n",
       "  '__hash__',\n",
       "  '__init__',\n",
       "  '__init_subclass__',\n",
       "  '__le__',\n",
       "  '__lt__',\n",
       "  '__mod__',\n",
       "  '__mul__',\n",
       "  '__ne__',\n",
       "  '__neg__',\n",
       "  '__new__',\n",
       "  '__pos__',\n",
       "  '__radd__',\n",
       "  '__rdivmod__',\n",
       "  '__reduce__',\n",
       "  '__reduce_ex__',\n",
       "  '__repr__',\n",
       "  '__rfloordiv__',\n",
       "  '__rmod__',\n",
       "  '__rmul__',\n",
       "  '__rsub__',\n",
       "  '__rtruediv__',\n",
       "  '__setattr__',\n",
       "  '__sizeof__',\n",
       "  '__str__',\n",
       "  '__sub__',\n",
       "  '__subclasshook__',\n",
       "  '__truediv__',\n",
       "  'days',\n",
       "  'max',\n",
       "  'microseconds',\n",
       "  'min',\n",
       "  'resolution',\n",
       "  'seconds',\n",
       "  'total_seconds'])"
      ]
     },
     "execution_count": 47,
     "metadata": {},
     "output_type": "execute_result"
    }
   ],
   "source": [
    "tmp = datetime.timedelta(minutes=-15)\n",
    "tmp.total_seconds(), dir(tmp)"
   ]
  },
  {
   "cell_type": "code",
   "execution_count": 5,
   "metadata": {},
   "outputs": [
    {
     "data": {
      "text/plain": [
       "294.11764705882354"
      ]
     },
     "execution_count": 5,
     "metadata": {},
     "output_type": "execute_result"
    }
   ],
   "source": [
    "100/0.34"
   ]
  },
  {
   "cell_type": "code",
   "execution_count": 1,
   "metadata": {
    "collapsed": true
   },
   "outputs": [],
   "source": [
    "text  = \"\"\"\n",
    "A2  01D\t \td\t2.70\tLControl       \t\n",
    "31  002\t \td\t0.27\t1              \t\n",
    "A2  01D\t \tu\t0.20\tLControl       \t\n",
    "31  002\t \tu\t0.02\t1              \t\n",
    "20  039\t \td\t0.16\tSpace          \t\n",
    "20  039\t \tu\t0.08\tSpace          \t\n",
    "45  012\t \td\t0.44\te              \t\n",
    "45  012\t \td\t0.50\te              \t\n",
    "45  012\t \td\t0.03\te              \t\n",
    "45  012\t \td\t0.03\te              \t\n",
    "45  012\t \td\t0.03\te              \t\n",
    "45  012\t \td\t0.03\te              \t\n",
    "45  012\t \td\t0.03\te              \t\n",
    "45  012\t \td\t0.03\te              \t\n",
    "45  012\t \td\t0.03\te              \t\n",
    "45  012\t \td\t0.03\te              \t\n",
    "45  012\t \td\t0.05\te              \t\n",
    "45  012\t \td\t0.03\te              \t\n",
    "45  012\t \td\t0.03\te              \t\n",
    "45  012\t \td\t0.03\te              \t\n",
    "45  012\t \td\t0.03\te              \t\n",
    "45  012\t \td\t0.03\te              \t\n",
    "45  012\t \tu\t0.03\te              \t\n",
    "33  004\t \td\t0.17\t3              \t\n",
    "33  004\t \tu\t0.11\t3              \t\n",
    "33  004\t \td\t0.97\t3              \t\n",
    "33  004\t \tu\t0.13\t3  \n",
    "\"\"\".strip()"
   ]
  },
  {
   "cell_type": "code",
   "execution_count": 2,
   "metadata": {
    "collapsed": true
   },
   "outputs": [],
   "source": [
    "lines = text.splitlines()"
   ]
  },
  {
   "cell_type": "code",
   "execution_count": 4,
   "metadata": {},
   "outputs": [
    {
     "data": {
      "text/plain": [
       "['A2  01D', ' ', 'd', '2.70', 'LControl']"
      ]
     },
     "execution_count": 4,
     "metadata": {},
     "output_type": "execute_result"
    }
   ],
   "source": [
    "lines[0].strip().split('\\t')"
   ]
  },
  {
   "cell_type": "code",
   "execution_count": 17,
   "metadata": {
    "collapsed": true
   },
   "outputs": [],
   "source": [
    "ud = {\"u\": \"Up\", \"d\": \"Down\"}\n",
    "def getCode(line):\n",
    "    items = line.strip().split('\\t')\n",
    "    dt = float(items[3]) * 1000\n",
    "    return \"TRandSleep(%d)\\nSend, {%s %s}\\n\" % (dt, items[4], ud[items[2]])"
   ]
  },
  {
   "cell_type": "code",
   "execution_count": 18,
   "metadata": {},
   "outputs": [
    {
     "name": "stdout",
     "output_type": "stream",
     "text": [
      "TRandSleep(2700)\n",
      "Send, {LControl Down}\n",
      "TRandSleep(270)\n",
      "Send, {1 Down}\n",
      "TRandSleep(200)\n",
      "Send, {LControl Up}\n",
      "TRandSleep(20)\n",
      "Send, {1 Up}\n",
      "TRandSleep(160)\n",
      "Send, {Space Down}\n",
      "TRandSleep(80)\n",
      "Send, {Space Up}\n",
      "TRandSleep(440)\n",
      "Send, {e Down}\n",
      "TRandSleep(500)\n",
      "Send, {e Down}\n",
      "TRandSleep(30)\n",
      "Send, {e Down}\n",
      "TRandSleep(30)\n",
      "Send, {e Down}\n",
      "TRandSleep(30)\n",
      "Send, {e Down}\n",
      "TRandSleep(30)\n",
      "Send, {e Down}\n",
      "TRandSleep(30)\n",
      "Send, {e Down}\n",
      "TRandSleep(30)\n",
      "Send, {e Down}\n",
      "TRandSleep(30)\n",
      "Send, {e Down}\n",
      "TRandSleep(30)\n",
      "Send, {e Down}\n",
      "TRandSleep(50)\n",
      "Send, {e Down}\n",
      "TRandSleep(30)\n",
      "Send, {e Down}\n",
      "TRandSleep(30)\n",
      "Send, {e Down}\n",
      "TRandSleep(30)\n",
      "Send, {e Down}\n",
      "TRandSleep(30)\n",
      "Send, {e Down}\n",
      "TRandSleep(30)\n",
      "Send, {e Down}\n",
      "TRandSleep(30)\n",
      "Send, {e Up}\n",
      "TRandSleep(170)\n",
      "Send, {3 Down}\n",
      "TRandSleep(110)\n",
      "Send, {3 Up}\n",
      "TRandSleep(970)\n",
      "Send, {3 Down}\n",
      "TRandSleep(130)\n",
      "Send, {3 Up}\n",
      "\n"
     ]
    }
   ],
   "source": [
    "result = ''.join([getCode(line) for line in text.splitlines()])\n",
    "print(result)"
   ]
  },
  {
   "cell_type": "code",
   "execution_count": 1,
   "metadata": {
    "collapsed": true
   },
   "outputs": [],
   "source": [
    "text = '''04  000\ti\td\t0.03\tMButton        \t\n",
    "6E  053\th\td\t0.47\tNumpadDot      \t\n",
    "6E  053\th\td\t0.03\tNumpadDot      \t\n",
    "6E  053\th\td\t0.05\tNumpadDot      \t\n",
    "6E  053\th\td\t0.03\tNumpadDot      \t\n",
    "6E  053\th\td\t0.03\tNumpadDot      \t\n",
    "6E  053\th\td\t0.03\tNumpadDot      \t\n",
    "6E  053\th\td\t0.03\tNumpadDot      \t\n",
    "6E  053\th\td\t0.03\tNumpadDot      \t\n",
    "6E  053\th\td\t0.03\tNumpadDot      \t\n",
    "6E  053\th\td\t0.03\tNumpadDot      \t\n",
    "6E  053\th\td\t0.03\tNumpadDot      \t\n",
    "6E  053\th\td\t0.05\tNumpadDot      \t\n",
    "6E  053\th\td\t0.03\tNumpadDot      \t\n",
    "6E  053\th\td\t0.03\tNumpadDot      \t\n",
    "6E  053\th\td\t0.03\tNumpadDot      \t\n",
    "6E  053\th\td\t0.03\tNumpadDot      \t\n",
    "6E  053\th\td\t0.03\tNumpadDot      \t\n",
    "6E  053\th\td\t0.03\tNumpadDot      \t\n",
    "6E  053\th\td\t0.03\tNumpadDot      \t\n",
    "6E  053\th\tu\t0.03\tNumpadDot      \t\n",
    "04  000\ti\tu\t0.00\tMButton'''"
   ]
  },
  {
   "cell_type": "code",
   "execution_count": 2,
   "metadata": {
    "collapsed": true
   },
   "outputs": [],
   "source": [
    "\n",
    "nums = re.findall(\"\\d\\.\\d{2}\", text)"
   ]
  },
  {
   "cell_type": "code",
   "execution_count": 4,
   "metadata": {},
   "outputs": [
    {
     "data": {
      "text/plain": [
       "1.1100000000000005"
      ]
     },
     "execution_count": 4,
     "metadata": {},
     "output_type": "execute_result"
    }
   ],
   "source": [
    "sum([float(i) for i in nums])"
   ]
  },
  {
   "cell_type": "code",
   "execution_count": 1,
   "metadata": {
    "collapsed": true
   },
   "outputs": [],
   "source": [
    "import re\n",
    "import datetime"
   ]
  },
  {
   "cell_type": "code",
   "execution_count": 21,
   "metadata": {},
   "outputs": [
    {
     "data": {
      "text/plain": [
       "datetime.datetime(2018, 3, 8, 21, 9, 44, 485257)"
      ]
     },
     "execution_count": 21,
     "metadata": {},
     "output_type": "execute_result"
    }
   ],
   "source": [
    "datetime.datetime.now() + datetime.timedelta(hours=1, minutes=22, seconds=50)"
   ]
  },
  {
   "cell_type": "code",
   "execution_count": 10,
   "metadata": {
    "scrolled": true
   },
   "outputs": [
    {
     "data": {
      "text/plain": [
       "datetime.timedelta(1, 25)"
      ]
     },
     "execution_count": 10,
     "metadata": {},
     "output_type": "execute_result"
    }
   ],
   "source": [
    "datetime.timedelta(1,25)"
   ]
  },
  {
   "cell_type": "code",
   "execution_count": 19,
   "metadata": {},
   "outputs": [
    {
     "data": {
      "text/plain": [
       "'1:25:00'"
      ]
     },
     "execution_count": 19,
     "metadata": {},
     "output_type": "execute_result"
    }
   ],
   "source": [
    "\"%s\" % datetime.timedelta(hours=1, minutes=25)"
   ]
  },
  {
   "cell_type": "code",
   "execution_count": 26,
   "metadata": {
    "collapsed": true
   },
   "outputs": [],
   "source": [
    "target = datetime.datetime(2018, 3, 8, 21, 9, 40)"
   ]
  },
  {
   "cell_type": "code",
   "execution_count": 27,
   "metadata": {},
   "outputs": [
    {
     "name": "stdout",
     "output_type": "stream",
     "text": [
      "1:21:30.531561\n"
     ]
    }
   ],
   "source": [
    "print(target - datetime.datetime.now())"
   ]
  },
  {
   "cell_type": "code",
   "execution_count": 29,
   "metadata": {},
   "outputs": [
    {
     "data": {
      "text/plain": [
       "datetime.datetime(2018, 3, 8, 20, 19, 40)"
      ]
     },
     "execution_count": 29,
     "metadata": {},
     "output_type": "execute_result"
    }
   ],
   "source": [
    "target - datetime.timedelta(hours=0, minutes=50, seconds=0)"
   ]
  },
  {
   "cell_type": "code",
   "execution_count": 31,
   "metadata": {},
   "outputs": [
    {
     "name": "stdout",
     "output_type": "stream",
     "text": [
      "0:07:59.560142\n"
     ]
    }
   ],
   "source": [
    "print(datetime.datetime.now() - (target- datetime.timedelta(hours=1, minutes=21, seconds=30)))"
   ]
  },
  {
   "cell_type": "code",
   "execution_count": 32,
   "metadata": {
    "collapsed": true
   },
   "outputs": [],
   "source": [
    "start = datetime.datetime.now()"
   ]
  },
  {
   "cell_type": "code",
   "execution_count": 38,
   "metadata": {},
   "outputs": [
    {
     "name": "stdout",
     "output_type": "stream",
     "text": [
      "0:17:04.370873\n"
     ]
    }
   ],
   "source": [
    "print(datetime.datetime.now() - start)"
   ]
  },
  {
   "cell_type": "code",
   "execution_count": 2,
   "metadata": {},
   "outputs": [
    {
     "name": "stdout",
     "output_type": "stream",
     "text": [
      "21:22:28.543844\n"
     ]
    }
   ],
   "source": [
    "target = datetime.datetime(2018, 3, 8, 21, 9, 40)\n",
    "print(datetime.datetime.now() - (target- datetime.timedelta(hours=1, minutes=21, seconds=30)))"
   ]
  },
  {
   "cell_type": "code",
   "execution_count": 8,
   "metadata": {},
   "outputs": [
    {
     "name": "stdout",
     "output_type": "stream",
     "text": [
      "2018-03-09 17:12:11.897020\n"
     ]
    }
   ],
   "source": [
    "print(datetime.datetime.now() + datetime.timedelta(seconds=33))"
   ]
  },
  {
   "cell_type": "code",
   "execution_count": 10,
   "metadata": {},
   "outputs": [
    {
     "data": {
      "text/plain": [
       "datetime.datetime(2018, 3, 9, 17, 12, 8, 352887)"
      ]
     },
     "execution_count": 10,
     "metadata": {},
     "output_type": "execute_result"
    }
   ],
   "source": [
    "target = datetime.datetime(2018, 3, 8, 21, 9, 40)\n",
    "datetime.datetime.now() + datetime.timedelta(seconds=5)"
   ]
  },
  {
   "cell_type": "code",
   "execution_count": 12,
   "metadata": {},
   "outputs": [
    {
     "name": "stdout",
     "output_type": "stream",
     "text": [
      "2018-03-09 17:12:00\n"
     ]
    }
   ],
   "source": [
    "target = datetime.datetime(2018, 3, 9, 17, 12)\n",
    "print(target)"
   ]
  },
  {
   "cell_type": "code",
   "execution_count": 13,
   "metadata": {},
   "outputs": [
    {
     "name": "stdout",
     "output_type": "stream",
     "text": [
      "2:30:00\n"
     ]
    }
   ],
   "source": [
    "dt = datetime.timedelta(minutes=150)\n",
    "print(dt)"
   ]
  },
  {
   "cell_type": "code",
   "execution_count": 2,
   "metadata": {},
   "outputs": [
    {
     "name": "stdout",
     "output_type": "stream",
     "text": [
      "2018-03-19 16:20:00\n",
      "2018-03-19 18:50:00\n",
      "2018-03-19 21:20:00\n",
      "2018-03-20 09:50:00\n",
      "2018-03-20 12:20:00\n"
     ]
    }
   ],
   "source": [
    "import datetime\n",
    "\n",
    "with open('eidon-start-time.txt', 'r') as fl:\n",
    "    timestamp = float(fl.read())\n",
    "    \n",
    "cur = datetime.datetime.fromtimestamp(timestamp)\n",
    "now = datetime.datetime.now() - datetime.timedelta(minutes=15)\n",
    "dt = datetime.timedelta(minutes=150)\n",
    "\n",
    "while cur < now:\n",
    "    cur = cur + dt\n",
    "with open('eidon-start-time.txt', 'w') as fl:\n",
    "    fl.write('%f' % (cur - dt).timestamp())\n",
    "    \n",
    "total = 0\n",
    "while total < 5:\n",
    "    if cur.hour > 8 and cur.hour < 23:\n",
    "        print(cur)\n",
    "        total += 1\n",
    "    cur = cur + dt"
   ]
  },
  {
   "cell_type": "code",
   "execution_count": 14,
   "metadata": {},
   "outputs": [
    {
     "data": {
      "text/plain": [
       "datetime.datetime(2018, 3, 9, 17, 10)"
      ]
     },
     "execution_count": 14,
     "metadata": {},
     "output_type": "execute_result"
    }
   ],
   "source": [
    "datetime.datetime.fromtimestamp(start.timestamp())"
   ]
  },
  {
   "cell_type": "code",
   "execution_count": 19,
   "metadata": {
    "collapsed": true
   },
   "outputs": [],
   "source": [
    "cur = start -  datetime.timedelta(minutes=50)\n",
    "with open('eidon-start-time.txt', 'w') as fl:\n",
    "    fl.write('%f' % cur.timestamp())"
   ]
  },
  {
   "cell_type": "code",
   "execution_count": 12,
   "metadata": {
    "collapsed": true
   },
   "outputs": [],
   "source": [
    "guns = \"\"\"\n",
    "兰卡\n",
    "射速\t1.0发/秒\n",
    "精准度\t100\n",
    "弹夹容量\t10发/弹匣\n",
    "弹药上限\t72发\n",
    "装填耗时\t2.0秒\n",
    "总伤害\t525\n",
    "蓄力时长\t1.0秒\n",
    "暴击几率\t25%\n",
    "暴击倍率\t2.0x\n",
    "触发几率\t25%\n",
    "\n",
    "守望者Prime\n",
    "射速\t2.67发/秒\n",
    "精准度\t13.3\n",
    "弹夹容量\t2发/弹匣\n",
    "弹药上限\t72发\n",
    "装填耗时\t0.85秒\n",
    "总伤害\t350.0\n",
    "暴击几率\t30%\n",
    "暴击倍率\t2.0x\n",
    "触发几率\t30%\n",
    "穿透\t1.0米\n",
    "\n",
    "金工火神亡魂\n",
    "射速\t2.0发/秒\n",
    "精准度\t13.3\n",
    "弹夹容量\t8发/弹匣\n",
    "弹药上限\t72发\n",
    "装填耗时\t3.0秒\n",
    "总伤害\t273.0\n",
    "暴击几率\t20%\n",
    "暴击倍率\t2.0x\n",
    "触发几率\t25%\n",
    "穿透\t1.0米\n",
    "\n",
    "狙击特昂破坏者\n",
    "射速\t2.0发/秒\n",
    "精准度\t13.3\n",
    "弹夹容量\t6发/弹匣\n",
    "弹药上限\t72发\n",
    "装填耗时\t2.0秒\n",
    "总伤害\t200.0\n",
    "暴击几率\t28%\n",
    "暴击倍率\t2.0x\n",
    "触发几率\t16%\n",
    "穿透\t3.0米\n",
    "\n",
    "绝路\n",
    "射速\t2.67发/秒\n",
    "精准度\t13.3\n",
    "弹夹容量\t5发/弹匣\n",
    "弹药上限\t72发\n",
    "装填耗时\t2.4秒\n",
    "总伤害\t180.0\n",
    "暴击几率\t30%\n",
    "暴击倍率\t3.0x\n",
    "触发几率\t12%\n",
    "穿透\t1.0米\n",
    "\"\"\".strip().split('\\n\\n')"
   ]
  },
  {
   "cell_type": "code",
   "execution_count": 105,
   "metadata": {},
   "outputs": [
    {
     "name": "stdout",
     "output_type": "stream",
     "text": [
      "兰卡\n",
      "0.125几率2级暴击\n",
      "0.875几率1级暴击\n",
      "单发伤害 2598.75\n",
      "DPS 3150.0\n",
      "守望者Prime\n",
      "0.750几率1级暴击\n",
      "0.250几率无暴击\n",
      "单发伤害 1242.5000000000002\n",
      "DPS 1885.196760903538\n",
      "金工火神亡魂\n",
      "0.500几率1级暴击\n",
      "0.500几率无暴击\n",
      "单发伤害 1179.3600000000001\n",
      "DPS 1715.4327272727276\n",
      "狙击特昂破坏者\n",
      "0.700几率1级暴击\n",
      "0.300几率无暴击\n",
      "单发伤害 676.0000000000001\n",
      "DPS 1046.709677419355\n",
      "绝路\n",
      "0.750几率1级暴击\n",
      "0.250几率无暴击\n",
      "单发伤害 936.0\n",
      "DPS 1310.7731039546838\n"
     ]
    }
   ],
   "source": [
    "import re\n",
    "for item in guns:\n",
    "    items = item.split('\\n')\n",
    "    gun = {\"Name\": items[0]}\n",
    "    for each in items[1:]:\n",
    "        key, val = each.split('\\t')\n",
    "        res = re.search(\"^([\\d]+\\.?\\d*)(%)?\" ,val)\n",
    "        gun[key] = float(res.group(1)) * (0.01 if res.group(2)else 1)\n",
    "    if gun['Name'] == '金工火神亡魂':\n",
    "        gun['总伤害'] *= 1.6\n",
    "    if gun['Name'] == '守望者Prime':\n",
    "#         gun['装填耗时'] /= 1 + 0.48\n",
    "#         gun['弹夹容量'] = 1\n",
    "#         gun['总伤害'] *= 1.4\n",
    "        gun['射速'] *= 1.6\n",
    "    else:\n",
    "        gun['射速'] *= 1.6\n",
    "#         gun['总伤害'] *= 1 - 0.15\n",
    "        \n",
    "    print(gun['Name'])\n",
    "    print('DPS', dps(gun))"
   ]
  },
  {
   "cell_type": "code",
   "execution_count": 104,
   "metadata": {
    "collapsed": true
   },
   "outputs": [],
   "source": [
    "from math import floor\n",
    "\n",
    "def shot(gun):\n",
    "    暴击几率 = gun['暴击几率'] * (1 + 1.5)\n",
    "    if gun['Name'] == '兰卡':\n",
    "        暴击几率 += 0.5\n",
    "#     print('暴击几率', 暴击几率)\n",
    "    暴击伤害 = gun['总伤害'] * gun['暴击倍率'] * (1 + 1.2)\n",
    "    暴击等级 = floor(暴击几率)\n",
    "    print(\"{:.3f}几率{}级暴击\".format(暴击几率 - 暴击等级, 暴击等级 + 1))\n",
    "    res = (暴击几率 - 暴击等级) * (暴击等级 + 1) * 暴击伤害\n",
    "    if 暴击等级 == 0:\n",
    "        print(\"{:.3f}几率无暴击\".format(1 - 暴击几率 + 暴击等级))\n",
    "        res += (1 - 暴击几率 + 暴击等级) * gun['总伤害']\n",
    "    else:\n",
    "        print(\"{:.3f}几率{}级暴击\".format(1 - 暴击几率 + 暴击等级, 暴击等级))\n",
    "        res += (1 - 暴击几率 + 暴击等级) * 暴击等级 * 暴击伤害\n",
    "    return  res\n",
    "\n",
    "def dps(gun):\n",
    "    单发伤害 = shot(gun)\n",
    "    print('单发伤害', 单发伤害)\n",
    "    射击时间 = gun['弹夹容量'] / gun['射速'] + gun['装填耗时']\n",
    "    return 单发伤害 * gun['弹夹容量'] / 射击时间"
   ]
  },
  {
   "cell_type": "code",
   "execution_count": 42,
   "metadata": {},
   "outputs": [
    {
     "name": "stdout",
     "output_type": "stream",
     "text": [
      "暴击几率 2.0\n"
     ]
    },
    {
     "data": {
      "text/plain": [
       "300.0"
      ]
     },
     "execution_count": 42,
     "metadata": {},
     "output_type": "execute_result"
    }
   ],
   "source": [
    "test = {'Name': 'test', '装填耗时': 0.85, '总伤害': 100.0, '暴击几率': 2/2.5, '暴击倍率': 2.0/2.2}\n",
    "shot(test)"
   ]
  },
  {
   "cell_type": "code",
   "execution_count": 40,
   "metadata": {},
   "outputs": [
    {
     "data": {
      "text/plain": [
       "0.4"
      ]
     },
     "execution_count": 40,
     "metadata": {},
     "output_type": "execute_result"
    }
   ],
   "source": [
    "1/2.5"
   ]
  },
  {
   "cell_type": "code",
   "execution_count": 44,
   "metadata": {},
   "outputs": [
    {
     "data": {
      "text/plain": [
       "2598.7500000000005"
      ]
     },
     "execution_count": 44,
     "metadata": {},
     "output_type": "execute_result"
    }
   ],
   "source": [
    "(0.125*2*2*2.2+0.875*1*2*2.2)*525"
   ]
  },
  {
   "cell_type": "code",
   "execution_count": 30,
   "metadata": {
    "collapsed": true
   },
   "outputs": [],
   "source": [
    "import requests\n",
    "import pyquery\n",
    "import json\n",
    "\n",
    "def get_price(name):\n",
    "    source = \"https://warframe.market/items/{}_prime_set\".format(name.lower())\n",
    "    requests.get(source)"
   ]
  },
  {
   "cell_type": "code",
   "execution_count": 12,
   "metadata": {
    "collapsed": true
   },
   "outputs": [],
   "source": [
    "name = \"Nova\"\n",
    "source = \"https://warframe.market/items/{}_prime_set\".format(name.lower())\n",
    "pq = pyquery.PyQuery(source)"
   ]
  },
  {
   "cell_type": "code",
   "execution_count": 25,
   "metadata": {},
   "outputs": [
    {
     "data": {
      "text/plain": [
       "[]"
      ]
     },
     "execution_count": 25,
     "metadata": {},
     "output_type": "execute_result"
    }
   ],
   "source": [
    "pq.find('a')"
   ]
  },
  {
   "cell_type": "code",
   "execution_count": 14,
   "metadata": {},
   "outputs": [
    {
     "data": {
      "text/plain": [
       "393"
      ]
     },
     "execution_count": 14,
     "metadata": {},
     "output_type": "execute_result"
    }
   ],
   "source": [
    "265+13+40+75"
   ]
  },
  {
   "cell_type": "code",
   "execution_count": 19,
   "metadata": {},
   "outputs": [
    {
     "data": {
      "text/plain": [
       "1.118"
      ]
     },
     "execution_count": 19,
     "metadata": {},
     "output_type": "execute_result"
    }
   ],
   "source": [
    "0.27*(1+2.4) + 0.2"
   ]
  },
  {
   "cell_type": "code",
   "execution_count": 29,
   "metadata": {
    "scrolled": true
   },
   "outputs": [
    {
     "data": {
      "text/plain": [
       "'{\"payload\": {\"orders\": [{\"platform\": \"pc\", \"region\": \"en\", \"order_type\": \"sell\", \"creation_date\": \"iso\", \"id\": \"57b330710f3139538b4b9e8e\", \"user\": {\"region\": \"en\", \"avatar\": null, \"ingame_name\": \"FbiK'"
      ]
     },
     "execution_count": 29,
     "metadata": {},
     "output_type": "execute_result"
    }
   ],
   "source": [
    "pq(\"script#application-state\").text()[:200]"
   ]
  },
  {
   "cell_type": "code",
   "execution_count": 32,
   "metadata": {
    "collapsed": true,
    "scrolled": true
   },
   "outputs": [],
   "source": [
    "info = json.loads(pq(\"script#application-state\").text())"
   ]
  },
  {
   "cell_type": "code",
   "execution_count": 33,
   "metadata": {},
   "outputs": [
    {
     "data": {
      "text/plain": [
       "dict_keys(['payload', 'items', 'current_user', 'include'])"
      ]
     },
     "execution_count": 33,
     "metadata": {},
     "output_type": "execute_result"
    }
   ],
   "source": [
    "info.keys()"
   ]
  },
  {
   "cell_type": "code",
   "execution_count": 55,
   "metadata": {
    "scrolled": false
   },
   "outputs": [
    {
     "name": "stdout",
     "output_type": "stream",
     "text": [
      "Nova Prime Neuroptics\n",
      "nova_prime_neuroptics\n",
      "False\n",
      "Nova Prime Chassis\n",
      "nova_prime_chassis\n",
      "False\n",
      "Nova Prime Systems\n",
      "nova_prime_systems\n",
      "False\n",
      "Nova Prime Blueprint\n",
      "nova_prime_blueprint\n",
      "False\n",
      "Nova Prime Set\n",
      "nova_prime_set\n",
      "True\n"
     ]
    }
   ],
   "source": [
    "for item in info['include']['item']['items_in_set']:\n",
    "#     print(item.keys())\n",
    "    print(item['en']['item_name'], item['url_name'], item['set_root'], sep='\\n')\n",
    "    "
   ]
  },
  {
   "cell_type": "code",
   "execution_count": 42,
   "metadata": {
    "scrolled": true
   },
   "outputs": [
    {
     "data": {
      "text/plain": [
       "dict_keys(['platform', 'region', 'order_type', 'creation_date', 'id', 'user', 'quantity', 'visible', 'last_update', 'platinum'])"
      ]
     },
     "execution_count": 42,
     "metadata": {},
     "output_type": "execute_result"
    }
   ],
   "source": [
    "info['payload']['orders'][0].keys()"
   ]
  },
  {
   "cell_type": "code",
   "execution_count": 57,
   "metadata": {
    "scrolled": true
   },
   "outputs": [
    {
     "data": {
      "text/plain": [
       "388"
      ]
     },
     "execution_count": 57,
     "metadata": {},
     "output_type": "execute_result"
    }
   ],
   "source": [
    "265 + 13 + 70 + 40"
   ]
  },
  {
   "cell_type": "code",
   "execution_count": 58,
   "metadata": {},
   "outputs": [
    {
     "data": {
      "text/plain": [
       "56.0"
      ]
     },
     "execution_count": 58,
     "metadata": {},
     "output_type": "execute_result"
    }
   ],
   "source": [
    "280/5"
   ]
  },
  {
   "cell_type": "code",
   "execution_count": 61,
   "metadata": {},
   "outputs": [
    {
     "data": {
      "text/plain": [
       "4.2832"
      ]
     },
     "execution_count": 61,
     "metadata": {},
     "output_type": "execute_result"
    }
   ],
   "source": [
    "posi = 0.24 * (1 + 2.6)\n",
    "posi * 2 * (1+1.4) + (1 - posi)"
   ]
  },
  {
   "cell_type": "code",
   "execution_count": 62,
   "metadata": {},
   "outputs": [
    {
     "data": {
      "text/plain": [
       "6.119999999999999"
      ]
     },
     "execution_count": 62,
     "metadata": {},
     "output_type": "execute_result"
    }
   ],
   "source": [
    "18*(1-0.66)"
   ]
  },
  {
   "cell_type": "code",
   "execution_count": 21,
   "metadata": {},
   "outputs": [
    {
     "data": {
      "text/plain": [
       "36.0"
      ]
     },
     "execution_count": 21,
     "metadata": {},
     "output_type": "execute_result"
    }
   ],
   "source": [
    "1.5*4*6"
   ]
  },
  {
   "cell_type": "code",
   "execution_count": null,
   "metadata": {
    "collapsed": true
   },
   "outputs": [],
   "source": []
  }
 ],
 "metadata": {
  "kernelspec": {
   "display_name": "Python 3",
   "language": "python",
   "name": "python3"
  },
  "language_info": {
   "codemirror_mode": {
    "name": "ipython",
    "version": 3
   },
   "file_extension": ".py",
   "mimetype": "text/x-python",
   "name": "python",
   "nbconvert_exporter": "python",
   "pygments_lexer": "ipython3",
   "version": "3.7.0"
  }
 },
 "nbformat": 4,
 "nbformat_minor": 2
}
