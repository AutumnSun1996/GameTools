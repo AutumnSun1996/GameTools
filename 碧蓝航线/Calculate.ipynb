{
 "cells": [
  {
   "cell_type": "code",
   "execution_count": 2,
   "metadata": {},
   "outputs": [
    {
     "name": "stdout",
     "output_type": "stream",
     "text": [
      "74 days in game.\n"
     ]
    }
   ],
   "source": [
    "import os\n",
    "import numpy as np\n",
    "import time\n",
    "import re\n",
    "import math\n",
    "from itertools import product\n",
    "import datetime\n",
    "import pandas as pd\n",
    "import matplotlib.pyplot as plt\n",
    "import matplotlib.dates as mdates\n",
    "from bottle import template\n",
    "from IPython.core.display import display, HTML\n",
    "\n",
    "played = datetime.datetime.now() - datetime.datetime(2018, 7, 10)\n",
    "print(\"{} days in game.\".format(played.days))"
   ]
  },
  {
   "cell_type": "code",
   "execution_count": 3,
   "metadata": {
    "collapsed": true
   },
   "outputs": [],
   "source": [
    "content = \"\"\n",
    "for name in os.listdir(\".\"):\n",
    "    if name.startswith(\"游戏记录\"):\n",
    "        with open(name, \"r\", -1, \"UTF-8\") as fl:\n",
    "            content += fl.read() + \"\\n\\n\""
   ]
  },
  {
   "cell_type": "code",
   "execution_count": 10,
   "metadata": {
    "collapsed": true
   },
   "outputs": [],
   "source": [
    "time_formats = [\n",
    "    r\"(?P<year>\\d{4})\\.(?P<month>\\d+)\\.(?P<day>\\d+) (?P<hour>\\d+):(?P<minute>\\d+)\",\n",
    "    r\"(?P<year>\\d{2})\\.(?P<month>\\d+)\\.(?P<day>\\d+) (?P<hour>\\d+):(?P<minute>\\d+)\",\n",
    "    r\"(?P<month>\\d+)\\.(?P<day>\\d+) (?P<hour>\\d+):(?P<minute>\\d+)\",\n",
    "    r\"(?P<year>\\d{4})\\.(?P<month>\\d+)\\.(?P<day>\\d+)\",\n",
    "    r\"(?P<year>\\d{2})\\.(?P<month>\\d+)\\.(?P<day>\\d+)\",\n",
    "    r\"(?P<hour>\\d+):(?P<minute>\\d+)\",\n",
    "]\n",
    "def get_date_time(text):\n",
    "    global default\n",
    "    for fmt in time_formats:\n",
    "        res = re.search(fmt, text)\n",
    "        if res:\n",
    "            default.update({k: int(v) for k, v in res.groupdict().items()})\n",
    "#             print(text, default)\n",
    "            if default[\"year\"] < 100:\n",
    "                default[\"year\"] += 2000\n",
    "            return datetime.datetime(**default)\n",
    "#     print(text, None)\n",
    "    return None\n",
    "\n",
    "def resample(xs, ys):\n",
    "    dates = []\n",
    "    values = []\n",
    "    one_day = datetime.timedelta(days=1)\n",
    "    \n",
    "    date = datetime.datetime(xs[0].year, xs[0].month, xs[0].day) + one_day\n",
    "    \n",
    "    idx = 0\n",
    "    while date < xs[-1]:\n",
    "        while date > xs[idx]:\n",
    "            idx += 1\n",
    "#         print(\"Caculate\", date, \"Using\", idx, xs[idx-1], xs[idx])\n",
    "        diffx1 = (date - xs[idx-1])\n",
    "        diffx2 = xs[idx] - date\n",
    "        diffy = (ys[idx] - ys[idx-1])\n",
    "        \n",
    "        diffy2 = diffx2 * (diffy) / (diffx1+diffx2)\n",
    "        dates.append(date)\n",
    "        values.append(ys[idx]-diffy2)\n",
    "        date += one_day\n",
    "    return np.array(dates), np.array(values)\n",
    "\n",
    "def plot_diff(xs, ys, name):\n",
    "    last_x = xs[0]\n",
    "    last_y = ys[0]\n",
    "    all_x = []\n",
    "    all_y = []\n",
    "    for i in range(1, len(xs)):\n",
    "        x = xs[i]\n",
    "        y = ys[i]\n",
    "        if x.day != last_x.day or i == len(xs) - 1:\n",
    "            dx = (x.timestamp() - last_x.timestamp()) / (3600*24)\n",
    "            all_x.append(datetime.datetime(last_x.year, last_x.month, last_x.day))\n",
    "            all_y.append((y-last_y) / dx)\n",
    "#             print(last_x, x, last_y, y)\n",
    "            last_x = x\n",
    "            last_y = y\n",
    "    \n",
    "    \n",
    "    plt.gca().xaxis.set_major_formatter(mdates.DateFormatter('%m-%d'))\n",
    "    plt.bar(all_x, all_y)\n",
    "    plt.title(\"{}/day\".format(name), fontproperties=\"SimHei\")\n",
    "    plt.show()\n",
    "    \n",
    "def plot_history(item_id=0):\n",
    "    global default\n",
    "    default = {\"year\": 2018, \"month\": 1, \"day\": 1}\n",
    "    check = {\n",
    "        0: \"出击次数\",\n",
    "        1: \"油\",\n",
    "        2: \"物资\",\n",
    "        3: \"当前钻石\",\n",
    "        4: \"魔方\"\n",
    "    }[item_id]\n",
    "    \n",
    "    first_day = datetime.datetime.now() - datetime.timedelta(days=21)\n",
    "\n",
    "    items = re.sub(\"[\\r\\n]{2,}\", \"\\n\\n\", content).strip().split(\"\\n\\n\")\n",
    "    xs = []\n",
    "    ys = []\n",
    "    for item in items:\n",
    "        now = get_date_time(item)\n",
    "        count = re.search(r\"%s ?(\\d+(\\+\\d+)?)\" % check, item)\n",
    "        if count and now:\n",
    "#         if count and now and now > first_day:\n",
    "            count = eval(count.group(1))\n",
    "            xs.append(now)\n",
    "            ys.append(count)\n",
    "    plt.figure(figsize=(16,8))\n",
    "    print(\"size\")\n",
    "    plt.gca().xaxis.set_major_formatter(mdates.DateFormatter('%m-%d'))\n",
    "    plt.plot(xs, ys)\n",
    "    rxs, rys = resample(xs, ys)\n",
    "    plt.plot(rxs, rys)\n",
    "    plt.title(check, fontproperties=\"SimHei\")\n",
    "    plt.show()\n",
    "    \n",
    "    plt.figure(figsize=(16,8))\n",
    "    plt.gca().xaxis.set_major_formatter(mdates.DateFormatter('%m-%d'))\n",
    "    diff_y = rys[1:] - rys[:-1]\n",
    "    plt.bar(rxs[:-1], diff_y)\n",
    "    plt.title(check, fontproperties=\"SimHei\")\n",
    "    plt.show()\n",
    "    \n",
    "#     plot_diff(xs, ys, check)\n",
    "    \n",
    "    return xs, ys"
   ]
  },
  {
   "cell_type": "code",
   "execution_count": 14,
   "metadata": {},
   "outputs": [
    {
     "name": "stdout",
     "output_type": "stream",
     "text": [
      "size\n"
     ]
    },
    {
     "data": {
      "image/png": "[encoded data removed]",
      "text/plain": [
       "<matplotlib.figure.Figure at 0x20f39cdf320>"
      ]
     },
     "metadata": {},
     "output_type": "display_data"
    },
    {
     "data": {
      "image/png": "[encoded data removed]",
      "text/plain": [
       "<matplotlib.figure.Figure at 0x20f39de60b8>"
      ]
     },
     "metadata": {},
     "output_type": "display_data"
    }
   ],
   "source": [
    "xs, ys = plot_history(1);"
   ]
  },
  {
   "cell_type": "code",
   "execution_count": 13,
   "metadata": {},
   "outputs": [
    {
     "name": "stdout",
     "output_type": "stream",
     "text": [
      "74天, 13834出击, 平均每天186.9出击\n"
     ]
    }
   ],
   "source": [
    "items = re.sub(\"[\\r\\n]{2,}\", \"\\n\\n\", content).split(\"\\n\\n\")\n",
    "for item in reversed(items):\n",
    "    now = get_date_time(item)\n",
    "    count = re.search(\"出击次数 ?(\\d+)\", item)\n",
    "    if count and now:\n",
    "        count = int(count.group(1))\n",
    "        days = (now - datetime.datetime(2018, 7, 10)).days\n",
    "        break\n",
    "print(\"{2}天, {1}出击, 平均每天{0:.1f}出击\".format(count / days, count, days))"
   ]
  },
  {
   "cell_type": "code",
   "execution_count": 37,
   "metadata": {},
   "outputs": [
    {
     "name": "stdout",
     "output_type": "stream",
     "text": [
      "Caculate 2018-08-19 00:00:00 Using 2 2018-08-18 16:20:00 2018-08-19 00:43:00\n",
      "Caculate 2018-08-20 00:00:00 Using 6 2018-08-19 20:28:00 2018-08-20 00:05:00\n",
      "Caculate 2018-08-21 00:00:00 Using 9 2018-08-20 17:47:00 2018-08-21 09:10:00\n",
      "Caculate 2018-08-22 00:00:00 Using 12 2018-08-21 18:23:00 2018-08-22 08:17:00\n",
      "Caculate 2018-08-23 00:00:00 Using 14 2018-08-22 18:23:00 2018-08-23 13:12:00\n",
      "Caculate 2018-08-24 00:00:00 Using 17 2018-08-23 19:19:00 2018-08-24 12:27:00\n",
      "Caculate 2018-08-25 00:00:00 Using 19 2018-08-24 20:56:00 2018-08-25 18:56:00\n",
      "Caculate 2018-08-26 00:00:00 Using 22 2018-08-25 20:29:00 2018-08-26 19:54:00\n",
      "Caculate 2018-08-27 00:00:00 Using 23 2018-08-26 19:54:00 2018-08-27 09:36:00\n",
      "Caculate 2018-08-28 00:00:00 Using 25 2018-08-27 23:26:00 2018-08-28 16:57:00\n",
      "Caculate 2018-08-29 00:00:00 Using 26 2018-08-28 16:57:00 2018-08-29 10:22:00\n",
      "Caculate 2018-08-30 00:00:00 Using 27 2018-08-29 10:22:00 2018-08-30 13:59:00\n",
      "Caculate 2018-08-31 00:00:00 Using 28 2018-08-30 13:59:00 2018-08-31 08:53:00\n",
      "Caculate 2018-09-01 00:00:00 Using 30 2018-08-31 21:22:00 2018-09-01 09:59:00\n",
      "Caculate 2018-09-02 00:00:00 Using 32 2018-09-01 23:16:00 2018-09-02 14:35:00\n",
      "Caculate 2018-09-03 00:00:00 Using 33 2018-09-02 14:35:00 2018-09-03 22:51:00\n",
      "Caculate 2018-09-04 00:00:00 Using 34 2018-09-03 22:51:00 2018-09-05 18:48:00\n",
      "Caculate 2018-09-05 00:00:00 Using 34 2018-09-03 22:51:00 2018-09-05 18:48:00\n",
      "Caculate 2018-09-06 00:00:00 Using 35 2018-09-05 18:48:00 2018-09-06 19:54:00\n",
      "Caculate 2018-09-07 00:00:00 Using 36 2018-09-06 19:54:00 2018-09-07 18:23:00\n",
      "Caculate 2018-09-08 00:00:00 Using 37 2018-09-07 18:23:00 2018-09-08 10:09:00\n"
     ]
    },
    {
     "data": {
      "text/plain": [
       "([datetime.datetime(2018, 8, 19, 0, 0),\n",
       "  datetime.datetime(2018, 8, 20, 0, 0),\n",
       "  datetime.datetime(2018, 8, 21, 0, 0),\n",
       "  datetime.datetime(2018, 8, 22, 0, 0),\n",
       "  datetime.datetime(2018, 8, 23, 0, 0),\n",
       "  datetime.datetime(2018, 8, 24, 0, 0),\n",
       "  datetime.datetime(2018, 8, 25, 0, 0),\n",
       "  datetime.datetime(2018, 8, 26, 0, 0),\n",
       "  datetime.datetime(2018, 8, 27, 0, 0),\n",
       "  datetime.datetime(2018, 8, 28, 0, 0),\n",
       "  datetime.datetime(2018, 8, 29, 0, 0),\n",
       "  datetime.datetime(2018, 8, 30, 0, 0),\n",
       "  datetime.datetime(2018, 8, 31, 0, 0),\n",
       "  datetime.datetime(2018, 9, 1, 0, 0),\n",
       "  datetime.datetime(2018, 9, 2, 0, 0),\n",
       "  datetime.datetime(2018, 9, 3, 0, 0),\n",
       "  datetime.datetime(2018, 9, 4, 0, 0),\n",
       "  datetime.datetime(2018, 9, 5, 0, 0),\n",
       "  datetime.datetime(2018, 9, 6, 0, 0),\n",
       "  datetime.datetime(2018, 9, 7, 0, 0),\n",
       "  datetime.datetime(2018, 9, 8, 0, 0)],\n",
       " [9217.707753479126,\n",
       "  9377.539170506912,\n",
       "  9490.535211267606,\n",
       "  9675.489208633093,\n",
       "  9859.639503985829,\n",
       "  10044.25486381323,\n",
       "  10223.387878787878,\n",
       "  10464.592170818505,\n",
       "  10705.503649635037,\n",
       "  10911.32635585157,\n",
       "  10991.883253588518,\n",
       "  11108.277610138804,\n",
       "  11214.228395061727,\n",
       "  11342.766182298546,\n",
       "  11590.776931447224,\n",
       "  11674.308367768595,\n",
       "  11747.36973833902,\n",
       "  11838.564277588168,\n",
       "  11923.67330677291,\n",
       "  11997.153446997776,\n",
       "  12119.07399577167])"
      ]
     },
     "execution_count": 37,
     "metadata": {},
     "output_type": "execute_result"
    }
   ],
   "source": [
    "\n",
    "resample(xs, ys)"
   ]
  },
  {
   "cell_type": "code",
   "execution_count": 30,
   "metadata": {},
   "outputs": [
    {
     "data": {
      "text/plain": [
       "[datetime.datetime(2018, 8, 18, 10, 55),\n",
       " datetime.datetime(2018, 8, 18, 16, 20),\n",
       " datetime.datetime(2018, 8, 19, 0, 43),\n",
       " datetime.datetime(2018, 8, 19, 9, 28),\n",
       " datetime.datetime(2018, 8, 19, 15, 53),\n",
       " datetime.datetime(2018, 8, 19, 20, 28),\n",
       " datetime.datetime(2018, 8, 20, 0, 5),\n",
       " datetime.datetime(2018, 8, 20, 9, 3),\n",
       " datetime.datetime(2018, 8, 20, 17, 47),\n",
       " datetime.datetime(2018, 8, 21, 9, 10),\n",
       " datetime.datetime(2018, 8, 21, 10, 44),\n",
       " datetime.datetime(2018, 8, 21, 18, 23),\n",
       " datetime.datetime(2018, 8, 22, 8, 17),\n",
       " datetime.datetime(2018, 8, 22, 18, 23),\n",
       " datetime.datetime(2018, 8, 23, 13, 12),\n",
       " datetime.datetime(2018, 8, 23, 14, 48),\n",
       " datetime.datetime(2018, 8, 23, 19, 19),\n",
       " datetime.datetime(2018, 8, 24, 12, 27),\n",
       " datetime.datetime(2018, 8, 24, 20, 56),\n",
       " datetime.datetime(2018, 8, 25, 18, 56),\n",
       " datetime.datetime(2018, 8, 25, 19, 26),\n",
       " datetime.datetime(2018, 8, 25, 20, 29),\n",
       " datetime.datetime(2018, 8, 26, 19, 54),\n",
       " datetime.datetime(2018, 8, 27, 9, 36),\n",
       " datetime.datetime(2018, 8, 27, 23, 26),\n",
       " datetime.datetime(2018, 8, 28, 16, 57),\n",
       " datetime.datetime(2018, 8, 29, 10, 22),\n",
       " datetime.datetime(2018, 8, 30, 13, 59),\n",
       " datetime.datetime(2018, 8, 31, 8, 53),\n",
       " datetime.datetime(2018, 8, 31, 21, 22),\n",
       " datetime.datetime(2018, 9, 1, 9, 59),\n",
       " datetime.datetime(2018, 9, 1, 23, 16),\n",
       " datetime.datetime(2018, 9, 2, 14, 35),\n",
       " datetime.datetime(2018, 9, 3, 22, 51),\n",
       " datetime.datetime(2018, 9, 5, 18, 48),\n",
       " datetime.datetime(2018, 9, 6, 19, 54),\n",
       " datetime.datetime(2018, 9, 7, 18, 23),\n",
       " datetime.datetime(2018, 9, 8, 10, 9)]"
      ]
     },
     "execution_count": 30,
     "metadata": {},
     "output_type": "execute_result"
    }
   ],
   "source": [
    "xs"
   ]
  },
  {
   "cell_type": "code",
   "execution_count": 9,
   "metadata": {
    "scrolled": true
   },
   "outputs": [
    {
     "name": "stdout",
     "output_type": "stream",
     "text": [
      "2018-08-28 21:44\n"
     ]
    }
   ],
   "source": [
    "print(\"{:%Y-%m-%d %H:%M}\".format(datetime.datetime.now() + datetime.timedelta(hours=5)))"
   ]
  },
  {
   "cell_type": "code",
   "execution_count": 3,
   "metadata": {
    "collapsed": true
   },
   "outputs": [],
   "source": [
    "def get_time(s):\n",
    "    each = [int(p) for p in s.split(\":\")]\n",
    "    minutes = np.dot(each, [60, 1])\n",
    "    return minutes"
   ]
  },
  {
   "cell_type": "code",
   "execution_count": 7,
   "metadata": {},
   "outputs": [
    {
     "name": "stdout",
     "output_type": "stream",
     "text": [
      "05:42 101.0次\n",
      "3.4min/次\n"
     ]
    }
   ],
   "source": [
    "map_count = (8276 - 8175)\n",
    "time_passed = datetime.datetime(2018, 8, 14, 22, 54) - datetime.datetime(2018, 8, 14, 17, 12)\n",
    "minutes = time_passed.seconds // 60\n",
    "print(\"{:02d}:{:02d} {:.1f}次\\n{:.1f}min/次\".format(minutes // 60, minutes % 60, map_count, minutes / map_count))"
   ]
  },
  {
   "cell_type": "code",
   "execution_count": 15,
   "metadata": {},
   "outputs": [
    {
     "name": "stdout",
     "output_type": "stream",
     "text": [
      "每次获得几率为7.00%\n",
      "平均需要15次\n",
      "为确保95.25%的几率获得, 需要42次\n"
     ]
    }
   ],
   "source": [
    "p_get_per_run = 7 / 100\n",
    "assured_p = 0.95\n",
    "max_n = 1000\n",
    "\n",
    "p_not_get_per_run = 1 - p_get_per_run\n",
    "n = math.ceil(math.log(1 - assured_p) / math.log(p_not_get_per_run))\n",
    "p_get_wanted_in_n = 1 - p_not_get_per_run ** n\n",
    "\n",
    "average = math.ceil(1 / p_get_per_run)\n",
    "print(\"\"\"\n",
    "每次获得几率为{0:.2%}\n",
    "平均需要{1}次\n",
    "为确保{3:.2%}的几率获得, 需要{2}次\n",
    "\"\"\".strip().format(p_get_per_run, average, n, p_get_wanted_in_n))"
   ]
  },
  {
   "cell_type": "code",
   "execution_count": 12,
   "metadata": {},
   "outputs": [
    {
     "name": "stdout",
     "output_type": "stream",
     "text": [
      "exp_gain/time_cost = 50.941\n",
      "drop_gain/time_cost = 0.143\n",
      "exp_gain/oil_cost = 119.661\n",
      "drop_gain/oil_cost = 0.336\n"
     ]
    }
   ],
   "source": [
    "context = {\n",
    "    \"road_count\": 4,\n",
    "    \"time_road\": 30,\n",
    "    \"time_move\": 30,\n",
    "    \"time_boss\": 80,\n",
    "\n",
    "    \"oil_road\": [9,4,2,9,1],\n",
    "    \"oil_boss\": [11,9,8,4,7],\n",
    "\n",
    "    \"exp_road\": 514,\n",
    "    \"exp_boss\": 687,\n",
    "\n",
    "    \"drop_all\": 0,\n",
    "    \"drop_boss\": 50,\n",
    "}\n",
    "def get(key, default=0):\n",
    "    return context.get(key, default)\n",
    "\n",
    "def exp_bonus(oil):\n",
    "    bonus = [1.5, 2]\n",
    "    for i in oil[2:]:\n",
    "        bonus.append(1)\n",
    "    return sum(bonus)\n",
    "    \n",
    "context[\"time_cost\"] = get(\"road_count\") * get(\"time_road\") + (get(\"road_count\") + 1) * get(\"time_move\") + get(\"time_boss\")\n",
    "context[\"oil_cost\"] = get(\"oil_enter\", 10) + sum(get(\"oil_road\")) * get(\"road_count\") + sum(get(\"oil_boss\"))\n",
    "context[\"exp_gain\"] = get(\"exp_road\") * exp_bonus(get(\"oil_road\")) * get(\"road_count\") + get(\"exp_boss\") * exp_bonus(get(\"oil_boss\"))\n",
    "context[\"drop_gain\"] = get(\"drop_all\") * (get(\"road_count\") + 1) + get(\"drop_boss\")\n",
    "\n",
    "\n",
    "for a, b in product([\"time_cost\", \"oil_cost\"], [\"exp_gain\", \"drop_gain\"]):\n",
    "    print(\"{}/{} = {:.3f}\".format(b, a, get(b)/get(a)))"
   ]
  },
  {
   "cell_type": "code",
   "execution_count": 15,
   "metadata": {},
   "outputs": [
    {
     "data": {
      "text/plain": [
       "963.1972397929845"
      ]
     },
     "execution_count": 15,
     "metadata": {},
     "output_type": "execute_result"
    }
   ],
   "source": [
    "(1000000-497500)/((380*2+338*2+303)*1.2*1.5) * 5 * 6/5"
   ]
  },
  {
   "cell_type": "code",
   "execution_count": 11,
   "metadata": {},
   "outputs": [
    {
     "data": {
      "text/plain": [
       "380.0"
      ]
     },
     "execution_count": 11,
     "metadata": {},
     "output_type": "execute_result"
    }
   ],
   "source": [
    "684/1.5/1.2"
   ]
  },
  {
   "cell_type": "code",
   "execution_count": 119,
   "metadata": {},
   "outputs": [
    {
     "name": "stdout",
     "output_type": "stream",
     "text": [
      "54.32879377431907\n",
      "176.63748378728926\n"
     ]
    }
   ],
   "source": [
    "for i in [\n",
    "# 罗德尼\n",
    "(132000-81735)/ (514*1.5*1.2),\n",
    "# Z23\n",
    "((40000-14100) + (1000000 - 808000)) / (514*2*1.2)\n",
    "]:\n",
    "    print(i)"
   ]
  },
  {
   "cell_type": "code",
   "execution_count": 117,
   "metadata": {},
   "outputs": [
    {
     "data": {
      "text/plain": [
       "851"
      ]
     },
     "execution_count": 117,
     "metadata": {},
     "output_type": "execute_result"
    }
   ],
   "source": [
    "(132000-131149)"
   ]
  },
  {
   "cell_type": "code",
   "execution_count": 73,
   "metadata": {},
   "outputs": [
    {
     "name": "stdout",
     "output_type": "stream",
     "text": [
      "2018-07-27 14:18:49.925711\n"
     ]
    }
   ],
   "source": [
    "start = datetime.datetime.now()\n",
    "print(start)"
   ]
  },
  {
   "cell_type": "code",
   "execution_count": 130,
   "metadata": {},
   "outputs": [
    {
     "name": "stdout",
     "output_type": "stream",
     "text": [
      "2018-07-29 11:51:31.594240\n",
      "0:11:32.602032\n"
     ]
    }
   ],
   "source": [
    "end = datetime.datetime.now()\n",
    "print(end)\n",
    "print(end  - start)"
   ]
  },
  {
   "cell_type": "code",
   "execution_count": 86,
   "metadata": {},
   "outputs": [
    {
     "name": "stdout",
     "output_type": "stream",
     "text": [
      "2018-07-27 14:26:56.795580\n",
      "0:08:06.869869\n"
     ]
    }
   ],
   "source": [
    "end = datetime.datetime.now()\n",
    "print(end)\n",
    "print(end  - start)"
   ]
  },
  {
   "cell_type": "code",
   "execution_count": 92,
   "metadata": {},
   "outputs": [
    {
     "name": "stdout",
     "output_type": "stream",
     "text": [
      "2018-07-27 14:49:01.717170\n",
      "0:30:11.791459\n"
     ]
    }
   ],
   "source": [
    "end = datetime.datetime.now()\n",
    "print(end)\n",
    "print(end  - start)"
   ]
  },
  {
   "cell_type": "code",
   "execution_count": 85,
   "metadata": {},
   "outputs": [
    {
     "data": {
      "text/plain": [
       "7.833333333333333"
      ]
     },
     "execution_count": 85,
     "metadata": {},
     "output_type": "execute_result"
    }
   ],
   "source": [
    "(60*4+30*5+80)/60"
   ]
  },
  {
   "cell_type": "code",
   "execution_count": 87,
   "metadata": {},
   "outputs": [
    {
     "name": "stdout",
     "output_type": "stream",
     "text": [
      "2018-07-27 14:27:07.742881\n",
      "0:08:17.817170\n"
     ]
    }
   ],
   "source": [
    "end = datetime.datetime.now()\n",
    "print(end)\n",
    "print(end  - start)"
   ]
  },
  {
   "cell_type": "code",
   "execution_count": 88,
   "metadata": {},
   "outputs": [
    {
     "data": {
      "text/plain": [
       "7.5"
      ]
     },
     "execution_count": 88,
     "metadata": {},
     "output_type": "execute_result"
    }
   ],
   "source": [
    "60/8"
   ]
  },
  {
   "cell_type": "code",
   "execution_count": null,
   "metadata": {},
   "outputs": [
    {
     "data": {
      "text/plain": [
       "1450"
      ]
     },
     "execution_count": 10,
     "metadata": {},
     "output_type": "execute_result"
    }
   ],
   "source": [
    "4400-2950"
   ]
  },
  {
   "cell_type": "code",
   "execution_count": 8,
   "metadata": {},
   "outputs": [
    {
     "name": "stdout",
     "output_type": "stream",
     "text": [
      "0.180 =4.5/25@[7, 10, 8]\n",
      "0.190 =5.5/29@[7, 10, 8, 4]\n",
      "0.262 =5.5/21@[8, 5, 5, 3]\n",
      "0.250 =5.5/22@[8, 5, 5, 4]\n"
     ]
    }
   ],
   "source": [
    "bonus_ratio([7,10,8,]);\n",
    "bonus_ratio([7,10,8,4]);\n",
    "bonus_ratio([8,5,5,3]);\n",
    "bonus_ratio([8,5,5,4]);"
   ]
  },
  {
   "cell_type": "code",
   "execution_count": 13,
   "metadata": {
    "collapsed": true
   },
   "outputs": [],
   "source": [
    "def get_exp_bonus(oil_fight):\n",
    "    bonus = [1.5, 2]\n",
    "    for i in oil_fight[2:]:\n",
    "        bonus.append(1)\n",
    "    return np.array(bonus)\n",
    "\n",
    "def get_ratio(oil_fight, oil_enter, exp_base, exp_boss, base_min, base_max, **kwargs):\n",
    "    \"\"\"给出油耗信息、关卡经验信息，计算经验/油耗比\"\"\"\n",
    "    bonus = get_exp_bonus(oil_fight)\n",
    "    print(\"单次油耗{} 平均油耗{:.1f} 增益/油耗比{:.2f}\".format(np.sum(oil_fight), np.mean(oil_fight), bonus.sum()/np.sum(oil_fight)))\n",
    "    for count in range(base_min, base_max+1):\n",
    "        exp = (exp_base * count + exp_boss) * bonus.sum()\n",
    "        oil = oil_enter + np.sum(oil_fight) * (count + 1)\n",
    "        print(\"{}次，经验{:.0f}/油耗{} = {:.1f}\".format(count, exp, oil, exp/oil))\n",
    "    print()\n",
    "\n",
    "def bonus_ratio(oil_fight):\n",
    "    bonus = get_exp_bonus(oil_fight).sum()\n",
    "    oil_all = np.sum(oil_fight)\n",
    "    print(\"{:.3f} ={:.1f}/{:.0f}@{}\".format(bonus / oil_all, bonus, oil_all, oil_fight))\n",
    "    return bonus / oil_all\n",
    "    \n",
    "def next_ratio(exp_history, oil_history, exp_next, oil_next=None, use_size=True):\n",
    "    \"\"\"给出当前战斗历史，判断是否继续道中战斗\"\"\"\n",
    "    oil_consume = 10\n",
    "    exp_gain = 0\n",
    "    size_exp = np.array([0, 1, 1.1, 1.2]) * 100\n",
    "    \n",
    "    if not isinstance(exp_history, (list, tuple)):\n",
    "        exp_history = [exp_history]\n",
    "        \n",
    "    if not isinstance(oil_history, (list, tuple)):\n",
    "        # 历史油耗信息为数值形式，则认为历史战斗的油耗均为该数值\n",
    "        oil_history = [oil_history for _ in exp_history]\n",
    "    print(exp_history, oil_history)\n",
    "    for exp, oil in zip(exp_history, oil_history):\n",
    "        oil_consume += oil\n",
    "        if use_size:\n",
    "            exp_gain += size_exp[exp]\n",
    "        else:\n",
    "            exp_gain += exp\n",
    "    ratio_now = exp_gain / oil_consume\n",
    "    \n",
    "    if not isinstance(exp_next, (list, tuple)):\n",
    "        exp_next = [exp_next]\n",
    "    \n",
    "    if oil_next is None:\n",
    "        # 未提供此后的油耗信息，则认为之后的油耗与上次战斗相同\n",
    "        oil_next = [oil_history[-1] for _ in exp_next]\n",
    "    elif not isinstance(oil_next, (list, tuple)):\n",
    "        # 油耗信息为数值形式，则认为之后的油耗均为该数值\n",
    "        oil_next = [oil_next for _ in exp_next]\n",
    "\n",
    "    for exp, oil in zip(exp_next, oil_next):\n",
    "        oil_consume += oil\n",
    "        if use_size:\n",
    "            exp_gain += size_exp[exp]\n",
    "        else:\n",
    "            exp_gain += exp\n",
    "\n",
    "    ratio = exp_gain / oil_consume\n",
    "    print(\"{!s:>5}: {:.2f} vs. {:.2f}\".format(ratio >= ratio_now, ratio_now, ratio))"
   ]
  },
  {
   "cell_type": "code",
   "execution_count": 14,
   "metadata": {},
   "outputs": [
    {
     "name": "stdout",
     "output_type": "stream",
     "text": [
      "1: 0.000=0/22(back) or 0.000=0/36(boss)\n",
      "2: 0.000=0/34(back) or 0.000=0/48(boss)\n",
      "3: 0.000=0/46(back) or 0.000=0/60(boss)\n",
      "4: 0.000=0/58(back) or 0.000=0/72(boss)\n",
      "5: 0.000=0/70(back) or 0.000=0/84(boss)\n"
     ]
    }
   ],
   "source": [
    "cost = {\n",
    "    \"Enter\": 10,\n",
    "    \"Normal\": 12,\n",
    "    \"Boss\": 14,\n",
    "}\n",
    "weight = {\n",
    "    \"NormalDrop\": 0,\n",
    "    \"AllDrop\": 1,\n",
    "    \"BossDrop\": 1,\n",
    "    \"Exp\": 1,\n",
    "}\n",
    "\n",
    "def gain_cost_compare(weight, cost):\n",
    "    consumed = cost.get(\"Enter\", 10)\n",
    "    gain = 0\n",
    "    normal_cost = cost.get(\"Normal\")\n",
    "    for i in range(1, 6):\n",
    "        consumed += normal_cost\n",
    "        gain += weight.get(\"Normal\", 0)\n",
    "#         if i < 3:\n",
    "#             continue\n",
    "#         print(\"{0}: {3:.3f}={1:.0f}/{2:.0f}\".format(i, gain, consumed, gain / consumed))\n",
    "        final_gain = gain + weight.get(\"Boss\", 0)\n",
    "        final_consumed = consumed + cost.get(\"Boss\", normal_cost)\n",
    "        ratio = final_gain / final_consumed\n",
    "        print(\"{0}: {3:.3f}={1:.0f}/{2:.0f}(back) or {6:.3f}={4:.0f}/{5:.0f}(boss)\".format(i, gain, consumed, gain / consumed, final_gain, final_consumed, ratio))\n",
    "        \n",
    "gain_cost_compare(weight, cost)"
   ]
  },
  {
   "cell_type": "code",
   "execution_count": 31,
   "metadata": {},
   "outputs": [
    {
     "name": "stdout",
     "output_type": "stream",
     "text": [
      "1: 21.233=637/30(back) or 31.483=1889/60(boss)\n",
      "2: 25.480=1274/50(back) or 31.575=2526/80(boss)\n",
      "3: 27.300=1911/70(back) or 31.630=3163/100(boss)\n",
      "4: 28.311=2548/90(back) or 31.667=3800/120(boss)\n",
      "5: 28.955=3185/110(back) or 31.693=4437/140(boss)\n"
     ]
    }
   ],
   "source": [
    "map_3_4 = {\n",
    "    \"cost\": {\n",
    "        \"Enter\": 10,\n",
    "        \"Normal\": 20,\n",
    "        \"Boss\": 30,\n",
    "    },\n",
    "    \"weight\": {\n",
    "        \"Normal\": 337 + 300,\n",
    "        \"Boss\": 452 + 300 + 500, \n",
    "    }\n",
    "}\n",
    "gain_cost_compare(**map_3_4)"
   ]
  },
  {
   "cell_type": "code",
   "execution_count": 37,
   "metadata": {},
   "outputs": [
    {
     "name": "stdout",
     "output_type": "stream",
     "text": [
      "0.260 =6.5/25@[9, 4, 9, 1, 2]\n",
      "0.234 =7.5/32@[9, 4, 7, 9, 1, 2]\n"
     ]
    },
    {
     "data": {
      "text/plain": [
       "0.234375"
      ]
     },
     "execution_count": 37,
     "metadata": {},
     "output_type": "execute_result"
    }
   ],
   "source": [
    "bonus_ratio([9,4,9,1,2])\n",
    "bonus_ratio([9,4,7,9,1,2])"
   ]
  },
  {
   "cell_type": "code",
   "execution_count": 37,
   "metadata": {},
   "outputs": [
    {
     "name": "stdout",
     "output_type": "stream",
     "text": [
      "89.75=12027/134\n",
      "88.68=11174/126\n",
      "93.11=11174/120\n",
      "92.15=10321/112\n",
      "76.82=11600/151\n"
     ]
    }
   ],
   "source": [
    "builds =[\n",
    "    [[19, 3], [48, 3+1+1]],\n",
    "    [[19, 3], [48-8, 3+1]],\n",
    "    [[19, 3], [48-14, 3+1]],\n",
    "    [[19, 3], [48-14-8, 3]],\n",
    "    \n",
    "    [[24, 3], [45, 2+1.5+1]],\n",
    "]\n",
    "\n",
    "def get_ratio(build):\n",
    "    cost = 10 + build[0][0] * 4 + build[1][0]\n",
    "    gain = build[0][1] * (2 * 588 + 2 * 588 * 1.2) + build[1][1] * 853\n",
    "    print(\"{:.2f}={:5.0f}/{:2.0f}\".format(gain/cost, gain, cost))\n",
    "\n",
    "for build in builds:\n",
    "    get_ratio(build)"
   ]
  },
  {
   "cell_type": "code",
   "execution_count": 68,
   "metadata": {},
   "outputs": [
    {
     "name": "stdout",
     "output_type": "stream",
     "text": [
      "0.361 =6.5/18@[7, 7, 2, 1, 1]\n",
      "0.395 =7.5/19@[7, 7, 2, 1, 1, 1]\n",
      "0.375 =7.5/20@[7, 7, 2, 1, 1, 2]\n",
      "0.357 =7.5/21@[7, 7, 2, 1, 1, 3]\n"
     ]
    }
   ],
   "source": [
    "current = [7,7,2,1,1]\n",
    "r0 = bonus_ratio(current)\n",
    "for i in range(1, 9):\n",
    "    r = bonus_ratio(current + [i])\n",
    "    if r < r0:\n",
    "        break"
   ]
  },
  {
   "cell_type": "code",
   "execution_count": 69,
   "metadata": {},
   "outputs": [
    {
     "name": "stdout",
     "output_type": "stream",
     "text": [
      "0.325 =6.5/20@[6, 4, 4, 3, 3]\n",
      "0.357 =7.5/21@[6, 4, 4, 3, 3, 1]\n",
      "0.341 =7.5/22@[6, 4, 4, 3, 3, 2]\n",
      "0.326 =7.5/23@[6, 4, 4, 3, 3, 3]\n",
      "0.312 =7.5/24@[6, 4, 4, 3, 3, 4]\n"
     ]
    }
   ],
   "source": [
    "current = [6,4,4,3,3]\n",
    "r0 = bonus_ratio(current)\n",
    "for i in range(1, 9):\n",
    "    r = bonus_ratio(current + [i])\n",
    "    if r < r0:\n",
    "        break"
   ]
  },
  {
   "cell_type": "code",
   "execution_count": 70,
   "metadata": {},
   "outputs": [
    {
     "data": {
      "text/plain": [
       "96"
      ]
     },
     "execution_count": 70,
     "metadata": {},
     "output_type": "execute_result"
    }
   ],
   "source": [
    "10+3*23+1*17"
   ]
  },
  {
   "cell_type": "code",
   "execution_count": 57,
   "metadata": {},
   "outputs": [
    {
     "name": "stdout",
     "output_type": "stream",
     "text": [
      "0.219 =3.5/16@[7, 9]\n",
      "0.250 =4.5/18@[7, 9, 2]\n",
      "0.289 =5.5/19@[7, 9, 2, 1]\n"
     ]
    }
   ],
   "source": [
    "bonus_ratio([7,9])\n",
    "bonus_ratio([7,9,2])\n",
    "bonus_ratio([7,9,2,1])"
   ]
  },
  {
   "cell_type": "code",
   "execution_count": 82,
   "metadata": {},
   "outputs": [
    {
     "name": "stdout",
     "output_type": "stream",
     "text": [
      "0.875 =3.5/4@[3, 1]\n",
      "0.900 =4.5/5@[3, 1, 1]\n",
      "0.917 =5.5/6@[3, 1, 1, 1]\n",
      "0.722 =6.5/9@[3, 3, 1, 1, 1]\n"
     ]
    },
    {
     "data": {
      "text/plain": [
       "0.7222222222222222"
      ]
     },
     "execution_count": 82,
     "metadata": {},
     "output_type": "execute_result"
    }
   ],
   "source": [
    "bonus_ratio([3,1])\n",
    "bonus_ratio([3,1,1])\n",
    "bonus_ratio([3,1,1,1])\n",
    "bonus_ratio([3,3,1,1,1])"
   ]
  },
  {
   "cell_type": "code",
   "execution_count": null,
   "metadata": {
    "collapsed": true
   },
   "outputs": [],
   "source": []
  },
  {
   "cell_type": "code",
   "execution_count": 53,
   "metadata": {},
   "outputs": [
    {
     "name": "stdout",
     "output_type": "stream",
     "text": [
      "0.382 =6.5/17@[7, 7, 1, 1, 1]\n"
     ]
    }
   ],
   "source": [
    "bonus_ratio([7,7,1,1,1])"
   ]
  },
  {
   "cell_type": "code",
   "execution_count": 74,
   "metadata": {},
   "outputs": [
    {
     "name": "stdout",
     "output_type": "stream",
     "text": [
      "[3, 3, 2, 2] [23, 23, 23, 23]\n",
      "False: 4.51 vs. 4.48\n"
     ]
    }
   ],
   "source": [
    "next_ratio([3,3,2,2], 23, [1])"
   ]
  },
  {
   "cell_type": "code",
   "execution_count": 46,
   "metadata": {},
   "outputs": [
    {
     "name": "stdout",
     "output_type": "stream",
     "text": [
      "1: 25.026=976/39(back) or 23.834=2121/89(boss)\n",
      "2: 28.706=1952/68(back) or 26.247=3097/118(boss)\n",
      "3: 30.186=2928/97(back) or 27.709=4073/147(boss)\n",
      "4: 30.984=3904/126(back) or 28.689=5049/176(boss)\n",
      "5: 31.484=4880/155(back) or 29.391=6025/205(boss)\n"
     ]
    }
   ],
   "source": [
    "map_sp3 = {\n",
    "    \"cost\": {\n",
    "        \"Enter\": 10,\n",
    "        \"Normal\": 29,\n",
    "        \"Boss\": 50,\n",
    "    },\n",
    "    \"weight\": {\n",
    "        \"Normal\": 376 + 300 * 2,\n",
    "        \"Boss\": 376 * 1.45 + 300 * 2, \n",
    "    }\n",
    "}\n",
    "gain_cost_compare(**map_sp3)"
   ]
  },
  {
   "cell_type": "code",
   "execution_count": 189,
   "metadata": {},
   "outputs": [
    {
     "name": "stdout",
     "output_type": "stream",
     "text": [
      "[2, 2, 2] [20, 20, 20]\n",
      "False: 4.71 vs. 4.50\n"
     ]
    }
   ],
   "source": [
    "next_ratio([2, 2, 2], 20, [3], 30)"
   ]
  },
  {
   "cell_type": "code",
   "execution_count": 164,
   "metadata": {},
   "outputs": [
    {
     "name": "stdout",
     "output_type": "stream",
     "text": [
      "[2, 3, 3] [23, 23, 23]\n",
      " True: 4.43 vs. 4.48\n"
     ]
    }
   ],
   "source": [
    "next_ratio([2, 3, 3], 23, [1, 2])"
   ]
  },
  {
   "cell_type": "code",
   "execution_count": 165,
   "metadata": {},
   "outputs": [
    {
     "name": "stdout",
     "output_type": "stream",
     "text": [
      "[2] [2, 3, 3]\n",
      " True: 9.17 vs. 20.00\n"
     ]
    }
   ],
   "source": [
    "next_ratio(2, [2, 3, 3], [1, 2, 1])"
   ]
  },
  {
   "cell_type": "code",
   "execution_count": 137,
   "metadata": {},
   "outputs": [
    {
     "name": "stdout",
     "output_type": "stream",
     "text": [
      "False: 4.48 vs. 4.46\n"
     ]
    }
   ],
   "source": [
    "next_ratio(23, [2, 3, 3, 1, 2], [1])"
   ]
  },
  {
   "cell_type": "code",
   "execution_count": 83,
   "metadata": {},
   "outputs": [
    {
     "name": "stdout",
     "output_type": "stream",
     "text": [
      "单次油耗23 平均油耗3.8 增益/油耗比0.33\n",
      "3次，经验9183/油耗102 = 90.0\n",
      "4次，经验11410/油耗125 = 91.3\n",
      "5次，经验13638/油耗148 = 92.1\n",
      "6次，经验15865/油耗171 = 92.8\n",
      "\n"
     ]
    }
   ],
   "source": [
    "target = {\n",
    "    \"name\": \"3-2\",\n",
    "    \"exp_base\": 270 * 1.1,\n",
    "    \"exp_boss\": 400 / 1.2,\n",
    "    \"base_min\": 3,\n",
    "    \"base_max\": 6,\n",
    "    \"oil_enter\": 10\n",
    "}\n",
    "get_ratio([8, 6, 3, 2, 2, 2], **target)"
   ]
  },
  {
   "cell_type": "code",
   "execution_count": 86,
   "metadata": {},
   "outputs": [
    {
     "name": "stdout",
     "output_type": "stream",
     "text": [
      "单次油耗5 平均油耗2.5 增益/油耗比0.70\n",
      "3次，经验4518/油耗30 = 150.6\n",
      "4次，经验5558/油耗35 = 158.8\n",
      "5次，经验6598/油耗40 = 164.9\n",
      "6次，经验7637/油耗45 = 169.7\n",
      "\n",
      "单次油耗6 平均油耗2.0 增益/油耗比0.75\n",
      "3次，经验5810/油耗34 = 170.9\n",
      "4次，经验7146/油耗40 = 178.7\n",
      "5次，经验8482/油耗46 = 184.4\n",
      "6次，经验9819/油耗52 = 188.8\n",
      "\n"
     ]
    }
   ],
   "source": [
    "get_ratio([3, 2], **target)\n",
    "get_ratio([3, 2, 1], **target)"
   ]
  },
  {
   "cell_type": "code",
   "execution_count": 15,
   "metadata": {},
   "outputs": [
    {
     "name": "stdout",
     "output_type": "stream",
     "text": [
      "0.583 =3.5/6@[3, 3]\n",
      "0.562 =4.5/8@[3, 3, 2]\n",
      "0.550 =5.5/10@[3, 3, 2, 2]\n",
      "0.611 =5.5/9@[3, 3, 2, 1]\n",
      "0.688 =5.5/8@[3, 3, 1, 1]\n",
      "0.643 =4.5/7@[3, 3, 1]\n",
      "[1, 2, 1] [9, 9, 9]\n",
      "False: 8.38 vs. 7.45\n"
     ]
    }
   ],
   "source": [
    "bonus_ratio([3, 3])\n",
    "bonus_ratio([3, 3, 2])\n",
    "bonus_ratio([3, 3, 2, 2])\n",
    "bonus_ratio([3, 3, 2, 1])\n",
    "bonus_ratio([3, 3, 1, 1])\n",
    "bonus_ratio([3, 3, 1,])\n",
    "\n",
    "next_ratio([1, 2, 1], 9, [0, 1])"
   ]
  },
  {
   "cell_type": "code",
   "execution_count": 170,
   "metadata": {},
   "outputs": [
    {
     "name": "stdout",
     "output_type": "stream",
     "text": [
      "0.357 =7.5/21@[6, 6, 5, 1, 1, 2]\n",
      "0.375 =7.5/20@[6, 3, 3, 4, 2, 2]\n"
     ]
    }
   ],
   "source": [
    "bonus_ratio([6,6,5,1,1,2])\n",
    "\n",
    "bonus_ratio([6,3,3,4,2,2])"
   ]
  },
  {
   "cell_type": "code",
   "execution_count": 181,
   "metadata": {},
   "outputs": [
    {
     "name": "stdout",
     "output_type": "stream",
     "text": [
      "[11, 11, 11] [20, 20, 20]\n",
      " True: 0.47 vs. 0.48\n"
     ]
    }
   ],
   "source": [
    "next_ratio([11, 11, 11], 20, [11], 21, False)"
   ]
  },
  {
   "cell_type": "code",
   "execution_count": 182,
   "metadata": {},
   "outputs": [
    {
     "data": {
      "text/plain": [
       "91"
      ]
     },
     "execution_count": 182,
     "metadata": {},
     "output_type": "execute_result"
    }
   ],
   "source": [
    "10+20*3+21"
   ]
  },
  {
   "cell_type": "code",
   "execution_count": 84,
   "metadata": {},
   "outputs": [
    {
     "name": "stdout",
     "output_type": "stream",
     "text": [
      "单次油耗14 平均油耗7.0 增益/油耗比0.25\n",
      "3次，经验4518/油耗66 = 68.5\n",
      "4次，经验5558/油耗80 = 69.5\n",
      "5次，经验6598/油耗94 = 70.2\n",
      "6次，经验7637/油耗108 = 70.7\n",
      "\n"
     ]
    }
   ],
   "source": [
    "target = {\n",
    "    \"name\": \"3-2\",\n",
    "    \"exp_base\": 270 * 1.1,\n",
    "    \"exp_boss\": 400,\n",
    "    \"base_min\": 3,\n",
    "    \"base_max\": 6,\n",
    "    \"oil_enter\": 10\n",
    "}\n",
    "get_ratio([8, 6], **target)"
   ]
  },
  {
   "cell_type": "code",
   "execution_count": null,
   "metadata": {
    "collapsed": true
   },
   "outputs": [],
   "source": []
  },
  {
   "cell_type": "code",
   "execution_count": 54,
   "metadata": {},
   "outputs": [
    {
     "name": "stdout",
     "output_type": "stream",
     "text": [
      "[1 1] 2\n",
      "平均增益1.75 平均油耗2.00 增益/油耗比1.75 A胜1.46\n",
      "[1 1 1] 3\n",
      "平均增益1.50 平均油耗2.00 增益/油耗比1.50 A胜1.25\n",
      "[1 1 1 1] 4\n",
      "平均增益1.38 平均油耗2.00 增益/油耗比1.38 A胜1.15\n",
      "[1 1 1 1 1] 5\n",
      "平均增益1.30 平均油耗2.00 增益/油耗比1.30 A胜1.08\n",
      "[1 1 1 1 1 1] 6\n",
      "平均增益1.25 平均油耗2.00 增益/油耗比1.25 A胜1.04\n",
      "[2 2] 4\n",
      "平均增益1.75 平均油耗2.00 增益/油耗比0.88 A胜0.73\n",
      "[2 2 1] 5\n",
      "平均增益1.50 平均油耗2.00 增益/油耗比0.90 A胜0.75\n",
      "[8 6] 14\n",
      "平均增益1.75 平均油耗2.00 增益/油耗比0.25 A胜0.21\n",
      "[8 6 2 2 2] 20\n",
      "平均增益1.30 平均油耗2.00 增益/油耗比0.33 A胜0.27\n",
      "[8 6 6 2 2 2] 26\n",
      "平均增益1.25 平均油耗2.00 增益/油耗比0.29 A胜0.24\n",
      "[8 6 3 2 2 2] 23\n",
      "平均增益1.25 平均油耗2.00 增益/油耗比0.33 A胜0.27\n",
      "[2 2 2 2 2 2] 12\n",
      "平均增益1.25 平均油耗2.00 增益/油耗比0.62 A胜0.52\n"
     ]
    }
   ],
   "source": [
    "check = [\n",
    "    [1, 1],\n",
    "    [1, 1, 1],\n",
    "    [1, 1, 1, 1],\n",
    "    [1, 1, 1, 1, 1],\n",
    "    [1, 1, 1, 1, 1, 1],\n",
    "    [2, 2],\n",
    "    [2, 2, 1],\n",
    "    [8, 6],\n",
    "    [8, 6, 2, 2, 2],\n",
    "    [8, 6, 6, 2, 2, 2],\n",
    "    [8, 6, 3, 2, 2, 2],\n",
    "    [2, 2, 2, 2, 2, 2],\n",
    "]\n",
    "for oil in check:\n",
    "    oil = np.array(oil)\n",
    "    print(oil, oil.sum())\n",
    "    bonus = get_exp_bonus(oil)\n",
    "    \n",
    "    ratio = bonus.sum() / oil.sum()\n",
    "    print(\"平均增益{:.2f} 平均油耗{:.2f} 增益/油耗比{:.2f} A胜{:.2f}\".format(bonus.mean(), oil_fight.mean(), ratio, ratio/1.2))"
   ]
  },
  {
   "cell_type": "code",
   "execution_count": 56,
   "metadata": {},
   "outputs": [
    {
     "name": "stdout",
     "output_type": "stream",
     "text": [
      "单次油耗23 平均油耗3.8 增益/油耗比0.33\n",
      "3次，经验9682/油耗102 = 94.9\n",
      "4次，经验11910/油耗125 = 95.3\n",
      "5次，经验14138/油耗148 = 95.5\n",
      "6次，经验16365/油耗171 = 95.7\n",
      "\n"
     ]
    }
   ],
   "source": [
    "Target = {\n",
    "    \"Name\": \"3-2\",\n",
    "    \"exp_base\": 297,\n",
    "    \"exp_boss\": 400,\n",
    "    \"base_min\": 3,\n",
    "    \"base_max\": 6,\n",
    "    \"oil_enter\": 10\n",
    "}\n",
    "\n",
    "oil_fight = [8, 3, 2, 6, 2, 2]\n",
    "current = [1, 3, 3]\n",
    "get_ratio(oil_fight, **Target)"
   ]
  },
  {
   "cell_type": "code",
   "execution_count": 11,
   "metadata": {},
   "outputs": [
    {
     "data": {
      "text/plain": [
       "98.13380281690141"
      ]
     },
     "execution_count": 11,
     "metadata": {},
     "output_type": "execute_result"
    }
   ],
   "source": [
    "(11910+270*get_exp_bonus(oil_fight).sum())/(120+np.sum(oil_fight))"
   ]
  },
  {
   "cell_type": "code",
   "execution_count": 3,
   "metadata": {},
   "outputs": [
    {
     "name": "stdout",
     "output_type": "stream",
     "text": [
      "-6 days left and today as extra 1 day.\n",
      "own 52030 points now, need more 2970 points, and 11420 points from fight\n",
      "    which means 76 map, 13399 oil\n",
      "For each day, need:\n",
      "    -6:55, -2284.00 points, -15.23 map, -2679.89 oil\n",
      "\n"
     ]
    }
   ],
   "source": [
    "ctx = {}\n",
    "ctx[\"gain_now\"] = 52030\n",
    "ctx[\"gain_per_map\"] = 150\n",
    "ctx[\"fight_road\"] = 6\n",
    "ctx[\"oil_road\"] = 21\n",
    "ctx[\"oil_boss\"] = 40\n",
    "ctx[\"minutes_per_map\"] = 20\n",
    "\n",
    "ctx[\"wanted\"] = 47600 - 2000\n",
    "ctx[\"wanted\"] = 55000\n",
    "\n",
    "def get(key, default=0):\n",
    "    return ctx.get(key, default)\n",
    "time_left = datetime.datetime(2018, 8, 9, 9, 0) - datetime.datetime.now()\n",
    "ctx[\"days_left\"] = time_left.days\n",
    "if datetime.datetime.now().hour > 20:\n",
    "    ctx[\"today_left\"] = 0\n",
    "elif datetime.datetime.now().hour > 14:\n",
    "    ctx[\"today_left\"] = 0.5\n",
    "else:\n",
    "    ctx[\"today_left\"] = 1\n",
    "ctx[\"oil_one_map\"] = 10 + get(\"oil_road\") * get(\"fight_road\") + get(\"oil_boss\")\n",
    "ctx[\"gain_each_day\"] = 300+300+100 + (30+40+50+60+70+80) * 3\n",
    "ctx[\"gain_missions\"] = get(\"gain_each_day\") * (get(\"days_left\") + 1)\n",
    "ctx[\"need_more\"] = max(0, get(\"wanted\") - get(\"gain_now\"))\n",
    "ctx[\"gain_from_fight\"] = max(0, get(\"need_more\") - get(\"gain_missions\"))\n",
    "ctx[\"gain_from_fight_per_day\"] = get(\"gain_from_fight\") / (get(\"days_left\") + get(\"today_left\"))\n",
    "ctx[\"map_count\"] = get(\"gain_from_fight\") / get(\"gain_per_map\")\n",
    "ctx[\"oil_count\"] = get(\"oil_one_map\") * get(\"map_count\")\n",
    "ctx[\"map_per_day\"] = get(\"map_count\") / (get(\"days_left\") + get(\"today_left\"))\n",
    "ctx[\"oil_per_day\"] = get(\"oil_one_map\") * get(\"map_per_day\")\n",
    "ctx[\"minutes_per_day\"] = get(\"minutes_per_map\") * get(\"map_per_day\")\n",
    "ctx[\"hour\"] = get(\"minutes_per_day\") // 60\n",
    "ctx[\"minutes\"] = get(\"minutes_per_day\") % 60\n",
    "\n",
    "print(\"\"\"\n",
    "{days_left} days left and today as extra {today_left} day.\n",
    "own {gain_now} points now, need more {need_more} points, and {gain_from_fight} points from fight\n",
    "    which means {map_count:.0f} map, {oil_count:.0f} oil\n",
    "For each day, need:\n",
    "    {hour:02.0f}:{minutes:02.0f}, {gain_from_fight_per_day:.2f} points, {map_per_day:.2f} map, {oil_per_day:.2f} oil\n",
    "\"\"\".strip().format(**ctx))\n",
    "\n",
    "print()\n",
    "dayily = get(\"gain_from_fight_per_day\") + get(\"gain_each_day\")\n",
    "target = get(\"gain_now\") + get(\"gain_from_fight_per_day\") * get(\"today_left\")\n",
    "date = datetime.datetime.now()\n",
    "oneday = datetime.timedelta(days=1)\n",
    "for i in range(get(\"days_left\")+2):\n",
    "    print(\"{0.month}.{0.day}: {1:.0f}\".format(date, target), end=\"; \")\n",
    "    date += oneday\n",
    "    target += dayily"
   ]
  },
  {
   "cell_type": "code",
   "execution_count": 75,
   "metadata": {},
   "outputs": [
    {
     "data": {
      "text/html": [
       "<span style=\"display:inline-block;background:#000; width:20px; height: 1em\"/>"
      ],
      "text/plain": [
       "<IPython.core.display.HTML object>"
      ]
     },
     "metadata": {},
     "output_type": "display_data"
    }
   ],
   "source": [
    "display(HTML('<span style=\"display:inline-block;background:#000; width:20px; height: 1em\"/>'))"
   ]
  },
  {
   "cell_type": "code",
   "execution_count": 128,
   "metadata": {},
   "outputs": [
    {
     "data": {
      "text/html": [
       "<table><tr style=\"border:solid 1px\"><td style=\"margin:0px;background:#FFF;color:#000;width:182.0px;font-size:0.9em;text-align:left\">0.0</td><td style=\"margin:0px;background:#000;color:#FFF;width:56.0px;font-size:0.9em;text-align:left\">26.0</td><td style=\"margin:0px;background:#FFF;color:#000;width:84.0px;font-size:0.9em;text-align:left\">34.0</td><td style=\"margin:0px;background:#000;color:#FFF;width:56.0px;font-size:0.9em;text-align:left\">46.0</td><td style=\"margin:0px;background:#FFF;color:#000;width:84.0px;font-size:0.9em;text-align:left\">54.0</td><td style=\"margin:0px;background:#000;color:#FFF;width:56.0px;font-size:0.9em;text-align:left\">66.0</td><td style=\"margin:0px;background:#FFF;color:#000;width:84.0px;font-size:0.9em;text-align:left\">74.0</td><td style=\"margin:0px;background:#000;color:#FFF;width:56.0px;font-size:0.9em;text-align:left\">86.0</td><td style=\"margin:0px;background:#FFF;color:#000;width:84.0px;font-size:0.9em;text-align:left\">94.0</td><td style=\"margin:0px;background:#000;color:#FFF;width:56.0px;font-size:0.9em;text-align:left\">106.0</td><td style=\"margin:0px;background:#FFF;color:#000;width:84.0px;font-size:0.9em;text-align:left\">114.0</td><td style=\"margin:0px;background:#000;color:#FFF;width:56.0px;font-size:0.9em;text-align:left\">126.0</td></tr></table>"
      ],
      "text/plain": [
       "<IPython.core.display.HTML object>"
      ]
     },
     "metadata": {},
     "output_type": "display_data"
    },
    {
     "data": {
      "text/html": [
       "<table><tr style=\"border:solid 1px\"><td style=\"margin:0px;background:#FFF;color:#000;width:154.0px;font-size:0.9em;text-align:left\">0.0</td><td style=\"margin:0px;background:#000;color:#FFF;width:21.0px;font-size:0.9em;text-align:left\">22.0</td><td style=\"margin:0px;background:#FFF;color:#000;width:119.0px;font-size:0.9em;text-align:left\">25.0</td><td style=\"margin:0px;background:#000;color:#FFF;width:21.0px;font-size:0.9em;text-align:left\">42.0</td><td style=\"margin:0px;background:#FFF;color:#000;width:119.0px;font-size:0.9em;text-align:left\">45.0</td><td style=\"margin:0px;background:#000;color:#FFF;width:21.0px;font-size:0.9em;text-align:left\">62.0</td><td style=\"margin:0px;background:#FFF;color:#000;width:119.0px;font-size:0.9em;text-align:left\">65.0</td><td style=\"margin:0px;background:#000;color:#FFF;width:21.0px;font-size:0.9em;text-align:left\">82.0</td><td style=\"margin:0px;background:#FFF;color:#000;width:119.0px;font-size:0.9em;text-align:left\">85.0</td><td style=\"margin:0px;background:#000;color:#FFF;width:21.0px;font-size:0.9em;text-align:left\">102.0</td><td style=\"margin:0px;background:#FFF;color:#000;width:119.0px;font-size:0.9em;text-align:left\">105.0</td><td style=\"margin:0px;background:#000;color:#FFF;width:21.0px;font-size:0.9em;text-align:left\">122.0</td></tr></table>"
      ],
      "text/plain": [
       "<IPython.core.display.HTML object>"
      ]
     },
     "metadata": {},
     "output_type": "display_data"
    }
   ],
   "source": [
    "offset = 6\n",
    "colldown = 20\n",
    "duration = 8\n",
    "repeat = 5\n",
    "width_multi = 7\n",
    "\n",
    "def get_item(width, status):\n",
    "    global text\n",
    "    colors = [\"#FFF\",\"#000\"]\n",
    "    background = colors[status]\n",
    "    color = colors[1-status]\n",
    "    res = '<td style=\"margin:0px;background:{0};color:{1};width:{2:.1f}px;font-size:0.9em;text-align:left\">{3:.1f}</td>'.format(background, color, width*width_multi, text)\n",
    "    text += width\n",
    "    return res\n",
    "\n",
    "out_fmt = '<table><tr style=\"border:solid 1px\">{1}</tr></table>'\n",
    "\n",
    "text = 0\n",
    "items = [get_item(colldown+offset, 0)]\n",
    "for i in range(repeat):\n",
    "    items.append(get_item(duration, 1))\n",
    "    items.append(get_item(colldown-duration, 0))\n",
    "items.append(get_item(duration, 1))\n",
    "\n",
    "html = out_fmt.format(text*width_multi+2, \"\".join(items))\n",
    "\n",
    "display(HTML(html))\n",
    "\n",
    "offset = 2\n",
    "colldown = 20\n",
    "duration = 3\n",
    "repeat = 5\n",
    "text = 0\n",
    "items = [get_item(colldown+offset, 0)]\n",
    "for i in range(repeat):\n",
    "    items.append(get_item(duration, 1))\n",
    "    items.append(get_item(colldown-duration, 0))\n",
    "items.append(get_item(duration, 1))\n",
    "\n",
    "html = out_fmt.format(text*width_multi+2, \"\".join(items))\n",
    "\n",
    "display(HTML(html))"
   ]
  },
  {
   "cell_type": "code",
   "execution_count": 112,
   "metadata": {},
   "outputs": [
    {
     "name": "stdout",
     "output_type": "stream",
     "text": [
      "<table style=\"text-align:left\"><tr style=\"border:solid 1px\"><td style=\"background:#FFF;color:#000;width:158.7px;font-size:0.9em\">22.7</td><td style=\"background:#000;color:#FFF;width:28.0px;font-size:0.9em\">26.7</td><td style=\"background:#FFF;color:#000;width:116.7px;font-size:0.9em\">43.3</td><td style=\"background:#000;color:#FFF;width:28.0px;font-size:0.9em\">47.3</td><td style=\"background:#FFF;color:#000;width:116.7px;font-size:0.9em\">64.0</td><td style=\"background:#000;color:#FFF;width:28.0px;font-size:0.9em\">68.0</td><td style=\"background:#FFF;color:#000;width:116.7px;font-size:0.9em\">84.7</td><td style=\"background:#000;color:#FFF;width:28.0px;font-size:0.9em\">88.7</td><td style=\"background:#FFF;color:#000;width:116.7px;font-size:0.9em\">105.4</td><td style=\"background:#000;color:#FFF;width:28.0px;font-size:0.9em\">109.4</td><td style=\"background:#FFF;color:#000;width:116.7px;font-size:0.9em\">126.0</td><td style=\"background:#000;color:#FFF;width:28.0px;font-size:0.9em\">130.0</td></tr></table>\n"
     ]
    }
   ],
   "source": [
    "print(html)"
   ]
  },
  {
   "cell_type": "code",
   "execution_count": 124,
   "metadata": {},
   "outputs": [
    {
     "data": {
      "text/plain": [
       "array([24, 22, 22])"
      ]
     },
     "execution_count": 124,
     "metadata": {},
     "output_type": "execute_result"
    }
   ],
   "source": [
    "# 2:36; 2:14; 1:53; \n",
    "dt = np.array([3*60, 2*60+36, 2*60+14, 1*60+52])\n",
    "dt[:-1] - dt[1:]"
   ]
  },
  {
   "cell_type": "code",
   "execution_count": 154,
   "metadata": {
    "collapsed": true
   },
   "outputs": [],
   "source": []
  },
  {
   "cell_type": "code",
   "execution_count": 153,
   "metadata": {},
   "outputs": [
    {
     "data": {
      "text/html": [
       "<svg>\n",
       "<rect width=\"188\" height=\"18\" style=\"fill:#999;\"/>\n",
       "<text x=\"0\" y=\"16\" height=\"18\" style=\"fill:#000;\">0</text>\n",
       "<rect x=\"188\" width=\"188\" height=\"18\" style=\"fill:#111;\"/>\n",
       "</svg>"
      ],
      "text/plain": [
       "<IPython.core.display.HTML object>"
      ]
     },
     "metadata": {},
     "output_type": "display_data"
    }
   ],
   "source": [
    "fmt = '''\n",
    "<rect width=\"{width}\" y=\"{y}\" height=\"18\" style=\"fill:{background};\"/>\n",
    "<text x=\"{x_text}\" y=\"{y_text}\" width=\"{width_text}\" height=\"18\" style=\"fill:#000;\">{x}</text>\n",
    "'''\n",
    "\n",
    "    \n",
    "\n",
    "display(HTML('''<svg>\n",
    "<rect width=\"188\" height=\"18\" style=\"fill:#999;\"/>\n",
    "<text x=\"0\" y=\"16\" height=\"18\" style=\"fill:#000;\">0</text>\n",
    "<rect x=\"188\" width=\"188\" height=\"18\" style=\"fill:#111;\"/>\n",
    "</svg>'''))"
   ]
  },
  {
   "cell_type": "code",
   "execution_count": 156,
   "metadata": {},
   "outputs": [
    {
     "name": "stdout",
     "output_type": "stream",
     "text": [
      "Help on function template in module bottle:\n",
      "\n",
      "template(*args, **kwargs)\n",
      "    Get a rendered template as a string iterator.\n",
      "    You can use a name, a filename or a template string as first parameter.\n",
      "    Template rendering arguments can be passed as dictionaries\n",
      "    or directly (as keyword arguments).\n",
      "\n"
     ]
    }
   ],
   "source": [
    "help(template)"
   ]
  },
  {
   "cell_type": "code",
   "execution_count": 207,
   "metadata": {},
   "outputs": [
    {
     "data": {
      "text/html": [
       "<svg style=\"width:100%; height:40px\">\n",
       "<rect x=\"0\" y=\"0\" width=\"260\" height=\"20\" style=\"fill:#EEE;\"/>\n",
       "<text x=\"1\" y=\"16\" width=\"{width}\" height=\"20\" style=\"fill:#000;\">0+26=26</text>\n",
       "\n",
       "<rect x=\"340\" y=\"0\" width=\"80\" height=\"20\" style=\"fill:#EEE;\"/>\n",
       "<text x=\"341\" y=\"16\" width=\"{width}\" height=\"20\" style=\"fill:#000;\">34+8=42</text>\n",
       "\n",
       "<rect x=\"460\" y=\"0\" width=\"120\" height=\"20\" style=\"fill:#000;\"/>\n",
       "<text x=\"461\" y=\"16\" width=\"{width}\" height=\"20\" style=\"fill:#FFF;\">46+12=58</text>\n",
       "\n",
       "<rect x=\"540\" y=\"0\" width=\"80\" height=\"20\" style=\"fill:#EEE;\"/>\n",
       "<text x=\"541\" y=\"16\" width=\"{width}\" height=\"20\" style=\"fill:#000;\">54+8=62</text>\n",
       "\n",
       "<rect x=\"660\" y=\"0\" width=\"120\" height=\"20\" style=\"fill:#000;\"/>\n",
       "<text x=\"661\" y=\"16\" width=\"{width}\" height=\"20\" style=\"fill:#FFF;\">66+12=78</text>\n",
       "\n",
       "<rect x=\"740\" y=\"0\" width=\"80\" height=\"20\" style=\"fill:#EEE;\"/>\n",
       "<text x=\"741\" y=\"16\" width=\"{width}\" height=\"20\" style=\"fill:#000;\">74+8=82</text>\n",
       "</svg>"
      ],
      "text/plain": [
       "<IPython.core.display.HTML object>"
      ]
     },
     "metadata": {},
     "output_type": "display_data"
    },
    {
     "name": "stdout",
     "output_type": "stream",
     "text": [
      "<svg style=\"width:100%; height:40px\">\n",
      "<rect x=\"0\" y=\"0\" width=\"260\" height=\"20\" style=\"fill:#EEE;\"/>\n",
      "<text x=\"1\" y=\"16\" width=\"{width}\" height=\"20\" style=\"fill:#000;\">0+26=26</text>\n",
      "\n",
      "<rect x=\"340\" y=\"0\" width=\"80\" height=\"20\" style=\"fill:#EEE;\"/>\n",
      "<text x=\"341\" y=\"16\" width=\"{width}\" height=\"20\" style=\"fill:#000;\">34+8=42</text>\n",
      "\n",
      "<rect x=\"460\" y=\"0\" width=\"120\" height=\"20\" style=\"fill:#000;\"/>\n",
      "<text x=\"461\" y=\"16\" width=\"{width}\" height=\"20\" style=\"fill:#FFF;\">46+12=58</text>\n",
      "\n",
      "<rect x=\"540\" y=\"0\" width=\"80\" height=\"20\" style=\"fill:#EEE;\"/>\n",
      "<text x=\"541\" y=\"16\" width=\"{width}\" height=\"20\" style=\"fill:#000;\">54+8=62</text>\n",
      "\n",
      "<rect x=\"660\" y=\"0\" width=\"120\" height=\"20\" style=\"fill:#000;\"/>\n",
      "<text x=\"661\" y=\"16\" width=\"{width}\" height=\"20\" style=\"fill:#FFF;\">66+12=78</text>\n",
      "\n",
      "<rect x=\"740\" y=\"0\" width=\"80\" height=\"20\" style=\"fill:#EEE;\"/>\n",
      "<text x=\"741\" y=\"16\" width=\"{width}\" height=\"20\" style=\"fill:#000;\">74+8=82</text>\n",
      "</svg>\n"
     ]
    }
   ],
   "source": [
    "fmt = '''\n",
    "% background = \"#000\" if get(\"status\") else \"#EEE\"\n",
    "% text_color = \"#FFF\" if get(\"status\") else \"#000\"\n",
    "% height = get(\"height\", 20)\n",
    "% y *= height\n",
    "% text = \"{0}+{1}={2}\".format(x, width, x+width)\n",
    "% x *= 10\n",
    "% width *= 10\n",
    "<rect x=\"{{x}}\" y=\"{{y}}\" width=\"{{width}}\" height=\"{{height}}\" style=\"fill:{{background}};\"/>\n",
    "<text x=\"{{x+1}}\" y=\"{{y + height-4}}\" width=\"{width}\" height=\"{{height}}\" style=\"fill:{{text_color}};\">{{text}}</text>\n",
    "'''\n",
    "\n",
    "bonus = {\n",
    "    \"offset\": 2+4,\n",
    "    \"colldown\": 20,\n",
    "    \"duration\": 8,\n",
    "    \"y\": 0,\n",
    "}\n",
    "attack = {\n",
    "    \"offset\": 2,\n",
    "    \"colldown\": 20,\n",
    "    \"duration\": 3,\n",
    "    \"y\": 1\n",
    "}\n",
    "repeat = 5\n",
    "bonus_x = 0\n",
    "attack_x = 0\n",
    "items = []\n",
    "width = bonus[\"offset\"]+bonus[\"colldown\"]\n",
    "x = width\n",
    "items.append(template(fmt, bonus, status=0, width=width, x=0))\n",
    "for idx in range(5):\n",
    "    width = (bonus[\"colldown\"] - bonus[\"duration\"]) if idx % 2 else bonus[\"duration\"]\n",
    "    x += width\n",
    "    items.append(template(fmt, bonus, status=idx%2, width=width, x=x))\n",
    "\n",
    "html = '<svg style=\"width:100%; height:40px\">{}</svg>'.format(\"\".join(items))\n",
    "display(HTML(html))\n",
    "print(html)"
   ]
  },
  {
   "cell_type": "code",
   "execution_count": 10,
   "metadata": {
    "collapsed": true,
    "scrolled": true
   },
   "outputs": [],
   "source": [
    "fmt = '''\n",
    "<%\n",
    "name_width = 60\n",
    "background = \"#000\" if status else \"#EEE\"\n",
    "text_color = \"#FFF\" if status else \"#000\"\n",
    "height = get(\"height\", 20)\n",
    "y *= height\n",
    "text = \"{0:.1f}\".format(x)\n",
    "title = \"{0:.2f}+{1:.2f}\".format(x, width, x+width)\n",
    "size = \";font-size:0.7em\" if width < 4 else \"\"\n",
    "x *= 8\n",
    "width *= 8\n",
    "%>\n",
    "<g>\n",
    "<title>{{title}}</title>\n",
    "<rect x=\"{{name_width+x}}\" y=\"{{y}}\" width=\"{{width}}\" height=\"{{height}}\" style=\"fill:{{background}};\"/>\n",
    "<text x=\"{{name_width+x+1}}\" y=\"{{y + height-4}}\" width=\"{{width}}\" height=\"{{height}}\" style=\"fill:{{text_color}}{{size}}\">{{text}}</text>\n",
    "</g>\n",
    "'''.strip()\n",
    "\n",
    "tpl_name = '''\n",
    "<%\n",
    "name_width = 60\n",
    "height = get(\"height\", 20)\n",
    "y *= height\n",
    "x *= 8\n",
    "%>\n",
    "<text x=\"{{x+1}}\" y=\"{{y + height-4}}\" width=\"{{name_width}}\" height=\"{{height}}\" style=\"fill:#000\">{{name}}:</text>\n",
    "'''.strip()\n",
    "\n",
    "def get_item_info(name, colldown, offset, duration, y):\n",
    "    res = [template(tpl_name, name=name, x=0, y=y)]\n",
    "    x = 0\n",
    "    width = colldown + offset\n",
    "    status = False\n",
    "#     print(\"{}+{}={}\".format(x, width, x+width))\n",
    "    res.append(template(fmt, x=x, y=y, width=width, status=status))\n",
    "    x += width\n",
    "    while True:\n",
    "        if status and x + colldown >= 120:\n",
    "            break\n",
    "        width = colldown - duration if status else duration\n",
    "        status = not status\n",
    "        res.append(template(fmt, x=x, y=y, width=width, status=status))\n",
    "        x += width\n",
    "    return \"\".join(res)\n",
    "\n",
    "def compare(*args):\n",
    "    svg = \"\".join([get_item_info(**arg, y=idx) for idx, arg in enumerate(args)])\n",
    "    html = '<svg style=\"width:100%; height:{}px\">{}</svg>'.format(len(args) * 20, svg)\n",
    "    display(HTML(html))\n"
   ]
  },
  {
   "cell_type": "code",
   "execution_count": 16,
   "metadata": {
    "scrolled": true
   },
   "outputs": [
    {
     "data": {
      "text/html": [
       "<svg style=\"width:100%; height:80px\"><text x=\"1\" y=\"16\" width=\"60\" height=\"20\" style=\"fill:#000\">剑鱼:</text><g>\n",
       "<title>0.00+26.00</title>\n",
       "<rect x=\"60\" y=\"0\" width=\"208\" height=\"20\" style=\"fill:#EEE;\"/>\n",
       "<text x=\"61\" y=\"16\" width=\"208\" height=\"20\" style=\"fill:#000\">0.0</text>\n",
       "</g><g>\n",
       "<title>26.00+8.00</title>\n",
       "<rect x=\"268\" y=\"0\" width=\"64\" height=\"20\" style=\"fill:#000;\"/>\n",
       "<text x=\"269\" y=\"16\" width=\"64\" height=\"20\" style=\"fill:#FFF\">26.0</text>\n",
       "</g><g>\n",
       "<title>34.00+12.00</title>\n",
       "<rect x=\"332\" y=\"0\" width=\"96\" height=\"20\" style=\"fill:#EEE;\"/>\n",
       "<text x=\"333\" y=\"16\" width=\"96\" height=\"20\" style=\"fill:#000\">34.0</text>\n",
       "</g><g>\n",
       "<title>46.00+8.00</title>\n",
       "<rect x=\"428\" y=\"0\" width=\"64\" height=\"20\" style=\"fill:#000;\"/>\n",
       "<text x=\"429\" y=\"16\" width=\"64\" height=\"20\" style=\"fill:#FFF\">46.0</text>\n",
       "</g><g>\n",
       "<title>54.00+12.00</title>\n",
       "<rect x=\"492\" y=\"0\" width=\"96\" height=\"20\" style=\"fill:#EEE;\"/>\n",
       "<text x=\"493\" y=\"16\" width=\"96\" height=\"20\" style=\"fill:#000\">54.0</text>\n",
       "</g><g>\n",
       "<title>66.00+8.00</title>\n",
       "<rect x=\"588\" y=\"0\" width=\"64\" height=\"20\" style=\"fill:#000;\"/>\n",
       "<text x=\"589\" y=\"16\" width=\"64\" height=\"20\" style=\"fill:#FFF\">66.0</text>\n",
       "</g><g>\n",
       "<title>74.00+12.00</title>\n",
       "<rect x=\"652\" y=\"0\" width=\"96\" height=\"20\" style=\"fill:#EEE;\"/>\n",
       "<text x=\"653\" y=\"16\" width=\"96\" height=\"20\" style=\"fill:#000\">74.0</text>\n",
       "</g><g>\n",
       "<title>86.00+8.00</title>\n",
       "<rect x=\"748\" y=\"0\" width=\"64\" height=\"20\" style=\"fill:#000;\"/>\n",
       "<text x=\"749\" y=\"16\" width=\"64\" height=\"20\" style=\"fill:#FFF\">86.0</text>\n",
       "</g><g>\n",
       "<title>94.00+12.00</title>\n",
       "<rect x=\"812\" y=\"0\" width=\"96\" height=\"20\" style=\"fill:#EEE;\"/>\n",
       "<text x=\"813\" y=\"16\" width=\"96\" height=\"20\" style=\"fill:#000\">94.0</text>\n",
       "</g><g>\n",
       "<title>106.00+8.00</title>\n",
       "<rect x=\"908\" y=\"0\" width=\"64\" height=\"20\" style=\"fill:#000;\"/>\n",
       "<text x=\"909\" y=\"16\" width=\"64\" height=\"20\" style=\"fill:#FFF\">106.0</text>\n",
       "</g><text x=\"1\" y=\"36\" width=\"60\" height=\"20\" style=\"fill:#000\">海伦娜:</text><g>\n",
       "<title>0.00+20.00</title>\n",
       "<rect x=\"60\" y=\"20\" width=\"160\" height=\"20\" style=\"fill:#EEE;\"/>\n",
       "<text x=\"61\" y=\"36\" width=\"160\" height=\"20\" style=\"fill:#000\">0.0</text>\n",
       "</g><g>\n",
       "<title>20.00+10.00</title>\n",
       "<rect x=\"220\" y=\"20\" width=\"80\" height=\"20\" style=\"fill:#000;\"/>\n",
       "<text x=\"221\" y=\"36\" width=\"80\" height=\"20\" style=\"fill:#FFF\">20.0</text>\n",
       "</g><g>\n",
       "<title>30.00+10.00</title>\n",
       "<rect x=\"300\" y=\"20\" width=\"80\" height=\"20\" style=\"fill:#EEE;\"/>\n",
       "<text x=\"301\" y=\"36\" width=\"80\" height=\"20\" style=\"fill:#000\">30.0</text>\n",
       "</g><g>\n",
       "<title>40.00+10.00</title>\n",
       "<rect x=\"380\" y=\"20\" width=\"80\" height=\"20\" style=\"fill:#000;\"/>\n",
       "<text x=\"381\" y=\"36\" width=\"80\" height=\"20\" style=\"fill:#FFF\">40.0</text>\n",
       "</g><g>\n",
       "<title>50.00+10.00</title>\n",
       "<rect x=\"460\" y=\"20\" width=\"80\" height=\"20\" style=\"fill:#EEE;\"/>\n",
       "<text x=\"461\" y=\"36\" width=\"80\" height=\"20\" style=\"fill:#000\">50.0</text>\n",
       "</g><g>\n",
       "<title>60.00+10.00</title>\n",
       "<rect x=\"540\" y=\"20\" width=\"80\" height=\"20\" style=\"fill:#000;\"/>\n",
       "<text x=\"541\" y=\"36\" width=\"80\" height=\"20\" style=\"fill:#FFF\">60.0</text>\n",
       "</g><g>\n",
       "<title>70.00+10.00</title>\n",
       "<rect x=\"620\" y=\"20\" width=\"80\" height=\"20\" style=\"fill:#EEE;\"/>\n",
       "<text x=\"621\" y=\"36\" width=\"80\" height=\"20\" style=\"fill:#000\">70.0</text>\n",
       "</g><g>\n",
       "<title>80.00+10.00</title>\n",
       "<rect x=\"700\" y=\"20\" width=\"80\" height=\"20\" style=\"fill:#000;\"/>\n",
       "<text x=\"701\" y=\"36\" width=\"80\" height=\"20\" style=\"fill:#FFF\">80.0</text>\n",
       "</g><g>\n",
       "<title>90.00+10.00</title>\n",
       "<rect x=\"780\" y=\"20\" width=\"80\" height=\"20\" style=\"fill:#EEE;\"/>\n",
       "<text x=\"781\" y=\"36\" width=\"80\" height=\"20\" style=\"fill:#000\">90.0</text>\n",
       "</g><g>\n",
       "<title>100.00+10.00</title>\n",
       "<rect x=\"860\" y=\"20\" width=\"80\" height=\"20\" style=\"fill:#000;\"/>\n",
       "<text x=\"861\" y=\"36\" width=\"80\" height=\"20\" style=\"fill:#FFF\">100.0</text>\n",
       "</g><text x=\"1\" y=\"56\" width=\"60\" height=\"20\" style=\"fill:#000\">炮击:</text><g>\n",
       "<title>0.00+17.00</title>\n",
       "<rect x=\"60\" y=\"40\" width=\"136\" height=\"20\" style=\"fill:#EEE;\"/>\n",
       "<text x=\"61\" y=\"56\" width=\"136\" height=\"20\" style=\"fill:#000\">0.0</text>\n",
       "</g><g>\n",
       "<title>17.00+3.00</title>\n",
       "<rect x=\"196\" y=\"40\" width=\"24\" height=\"20\" style=\"fill:#000;\"/>\n",
       "<text x=\"197\" y=\"56\" width=\"24\" height=\"20\" style=\"fill:#FFF;font-size:0.7em\">17.0</text>\n",
       "</g><g>\n",
       "<title>20.00+12.00</title>\n",
       "<rect x=\"220\" y=\"40\" width=\"96\" height=\"20\" style=\"fill:#EEE;\"/>\n",
       "<text x=\"221\" y=\"56\" width=\"96\" height=\"20\" style=\"fill:#000\">20.0</text>\n",
       "</g><g>\n",
       "<title>32.00+3.00</title>\n",
       "<rect x=\"316\" y=\"40\" width=\"24\" height=\"20\" style=\"fill:#000;\"/>\n",
       "<text x=\"317\" y=\"56\" width=\"24\" height=\"20\" style=\"fill:#FFF;font-size:0.7em\">32.0</text>\n",
       "</g><g>\n",
       "<title>35.00+12.00</title>\n",
       "<rect x=\"340\" y=\"40\" width=\"96\" height=\"20\" style=\"fill:#EEE;\"/>\n",
       "<text x=\"341\" y=\"56\" width=\"96\" height=\"20\" style=\"fill:#000\">35.0</text>\n",
       "</g><g>\n",
       "<title>47.00+3.00</title>\n",
       "<rect x=\"436\" y=\"40\" width=\"24\" height=\"20\" style=\"fill:#000;\"/>\n",
       "<text x=\"437\" y=\"56\" width=\"24\" height=\"20\" style=\"fill:#FFF;font-size:0.7em\">47.0</text>\n",
       "</g><g>\n",
       "<title>50.00+12.00</title>\n",
       "<rect x=\"460\" y=\"40\" width=\"96\" height=\"20\" style=\"fill:#EEE;\"/>\n",
       "<text x=\"461\" y=\"56\" width=\"96\" height=\"20\" style=\"fill:#000\">50.0</text>\n",
       "</g><g>\n",
       "<title>62.00+3.00</title>\n",
       "<rect x=\"556\" y=\"40\" width=\"24\" height=\"20\" style=\"fill:#000;\"/>\n",
       "<text x=\"557\" y=\"56\" width=\"24\" height=\"20\" style=\"fill:#FFF;font-size:0.7em\">62.0</text>\n",
       "</g><g>\n",
       "<title>65.00+12.00</title>\n",
       "<rect x=\"580\" y=\"40\" width=\"96\" height=\"20\" style=\"fill:#EEE;\"/>\n",
       "<text x=\"581\" y=\"56\" width=\"96\" height=\"20\" style=\"fill:#000\">65.0</text>\n",
       "</g><g>\n",
       "<title>77.00+3.00</title>\n",
       "<rect x=\"676\" y=\"40\" width=\"24\" height=\"20\" style=\"fill:#000;\"/>\n",
       "<text x=\"677\" y=\"56\" width=\"24\" height=\"20\" style=\"fill:#FFF;font-size:0.7em\">77.0</text>\n",
       "</g><g>\n",
       "<title>80.00+12.00</title>\n",
       "<rect x=\"700\" y=\"40\" width=\"96\" height=\"20\" style=\"fill:#EEE;\"/>\n",
       "<text x=\"701\" y=\"56\" width=\"96\" height=\"20\" style=\"fill:#000\">80.0</text>\n",
       "</g><g>\n",
       "<title>92.00+3.00</title>\n",
       "<rect x=\"796\" y=\"40\" width=\"24\" height=\"20\" style=\"fill:#000;\"/>\n",
       "<text x=\"797\" y=\"56\" width=\"24\" height=\"20\" style=\"fill:#FFF;font-size:0.7em\">92.0</text>\n",
       "</g><g>\n",
       "<title>95.00+12.00</title>\n",
       "<rect x=\"820\" y=\"40\" width=\"96\" height=\"20\" style=\"fill:#EEE;\"/>\n",
       "<text x=\"821\" y=\"56\" width=\"96\" height=\"20\" style=\"fill:#000\">95.0</text>\n",
       "</g><g>\n",
       "<title>107.00+3.00</title>\n",
       "<rect x=\"916\" y=\"40\" width=\"24\" height=\"20\" style=\"fill:#000;\"/>\n",
       "<text x=\"917\" y=\"56\" width=\"24\" height=\"20\" style=\"fill:#FFF;font-size:0.7em\">107.0</text>\n",
       "</g><text x=\"1\" y=\"76\" width=\"60\" height=\"20\" style=\"fill:#000\">空袭:</text><g>\n",
       "<title>0.00+23.68</title>\n",
       "<rect x=\"60\" y=\"60\" width=\"189.44\" height=\"20\" style=\"fill:#EEE;\"/>\n",
       "<text x=\"61\" y=\"76\" width=\"189.44\" height=\"20\" style=\"fill:#000\">0.0</text>\n",
       "</g><g>\n",
       "<title>23.68+3.00</title>\n",
       "<rect x=\"249.44\" y=\"60\" width=\"24\" height=\"20\" style=\"fill:#000;\"/>\n",
       "<text x=\"250.44\" y=\"76\" width=\"24\" height=\"20\" style=\"fill:#FFF;font-size:0.7em\">23.7</text>\n",
       "</g><g>\n",
       "<title>26.68+14.68</title>\n",
       "<rect x=\"273.44\" y=\"60\" width=\"117.44\" height=\"20\" style=\"fill:#EEE;\"/>\n",
       "<text x=\"274.44\" y=\"76\" width=\"117.44\" height=\"20\" style=\"fill:#000\">26.7</text>\n",
       "</g><g>\n",
       "<title>41.36+3.00</title>\n",
       "<rect x=\"390.88\" y=\"60\" width=\"24\" height=\"20\" style=\"fill:#000;\"/>\n",
       "<text x=\"391.88\" y=\"76\" width=\"24\" height=\"20\" style=\"fill:#FFF;font-size:0.7em\">41.4</text>\n",
       "</g><g>\n",
       "<title>44.36+14.68</title>\n",
       "<rect x=\"414.88\" y=\"60\" width=\"117.44\" height=\"20\" style=\"fill:#EEE;\"/>\n",
       "<text x=\"415.88\" y=\"76\" width=\"117.44\" height=\"20\" style=\"fill:#000\">44.4</text>\n",
       "</g><g>\n",
       "<title>59.04+3.00</title>\n",
       "<rect x=\"532.3199999999999\" y=\"60\" width=\"24\" height=\"20\" style=\"fill:#000;\"/>\n",
       "<text x=\"533.3199999999999\" y=\"76\" width=\"24\" height=\"20\" style=\"fill:#FFF;font-size:0.7em\">59.0</text>\n",
       "</g><g>\n",
       "<title>62.04+14.68</title>\n",
       "<rect x=\"556.3199999999999\" y=\"60\" width=\"117.44\" height=\"20\" style=\"fill:#EEE;\"/>\n",
       "<text x=\"557.3199999999999\" y=\"76\" width=\"117.44\" height=\"20\" style=\"fill:#000\">62.0</text>\n",
       "</g><g>\n",
       "<title>76.72+3.00</title>\n",
       "<rect x=\"673.76\" y=\"60\" width=\"24\" height=\"20\" style=\"fill:#000;\"/>\n",
       "<text x=\"674.76\" y=\"76\" width=\"24\" height=\"20\" style=\"fill:#FFF;font-size:0.7em\">76.7</text>\n",
       "</g><g>\n",
       "<title>79.72+14.68</title>\n",
       "<rect x=\"697.76\" y=\"60\" width=\"117.44\" height=\"20\" style=\"fill:#EEE;\"/>\n",
       "<text x=\"698.76\" y=\"76\" width=\"117.44\" height=\"20\" style=\"fill:#000\">79.7</text>\n",
       "</g><g>\n",
       "<title>94.40+3.00</title>\n",
       "<rect x=\"815.2\" y=\"60\" width=\"24\" height=\"20\" style=\"fill:#000;\"/>\n",
       "<text x=\"816.2\" y=\"76\" width=\"24\" height=\"20\" style=\"fill:#FFF;font-size:0.7em\">94.4</text>\n",
       "</g><g>\n",
       "<title>97.40+14.68</title>\n",
       "<rect x=\"839.2\" y=\"60\" width=\"117.44\" height=\"20\" style=\"fill:#EEE;\"/>\n",
       "<text x=\"840.2\" y=\"76\" width=\"117.44\" height=\"20\" style=\"fill:#000\">97.4</text>\n",
       "</g><g>\n",
       "<title>112.08+3.00</title>\n",
       "<rect x=\"956.6400000000001\" y=\"60\" width=\"24\" height=\"20\" style=\"fill:#000;\"/>\n",
       "<text x=\"957.6400000000001\" y=\"76\" width=\"24\" height=\"20\" style=\"fill:#FFF;font-size:0.7em\">112.1</text>\n",
       "</g></svg>"
      ],
      "text/plain": [
       "<IPython.core.display.HTML object>"
      ]
     },
     "metadata": {},
     "output_type": "display_data"
    }
   ],
   "source": [
    "compare({\n",
    "    \"name\": \"剑鱼\",\n",
    "    \"offset\": 2+4,\n",
    "    \"colldown\": 20,\n",
    "    \"duration\": 8\n",
    "},{\n",
    "    \"name\": \"海伦娜\",\n",
    "    \"offset\": 0,\n",
    "    \"colldown\": 20,\n",
    "    \"duration\": 10\n",
    "},{\n",
    "    \"name\": \"炮击\",\n",
    "    \"offset\": 2,\n",
    "    \"colldown\": 15,\n",
    "    \"duration\": 3\n",
    "},{\n",
    "    \"name\": \"空袭\",\n",
    "    \"offset\": 2+4,\n",
    "    \"colldown\": 17.68,\n",
    "    \"duration\": 3\n",
    "})"
   ]
  },
  {
   "cell_type": "code",
   "execution_count": null,
   "metadata": {
    "collapsed": true
   },
   "outputs": [],
   "source": []
  },
  {
   "cell_type": "code",
   "execution_count": null,
   "metadata": {
    "collapsed": true
   },
   "outputs": [],
   "source": []
  }
 ],
 "metadata": {
  "kernelspec": {
   "display_name": "Python 3",
   "language": "python",
   "name": "python3"
  },
  "language_info": {
   "codemirror_mode": {
    "name": "ipython",
    "version": 3
   },
   "file_extension": ".py",
   "mimetype": "text/x-python",
   "name": "python",
   "nbconvert_exporter": "python",
   "pygments_lexer": "ipython3",
   "version": "3.6.2"
  }
 },
 "nbformat": 4,
 "nbformat_minor": 2
}
