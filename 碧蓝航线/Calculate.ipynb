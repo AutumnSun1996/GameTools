{
 "cells": [
  {
   "cell_type": "code",
   "execution_count": 19,
   "metadata": {},
   "outputs": [
    {
     "name": "stdout",
     "output_type": "stream",
     "text": [
      "41 days in game.\n"
     ]
    }
   ],
   "source": [
    "import os\n",
    "import numpy as np\n",
    "import time\n",
    "import re\n",
    "import math\n",
    "from itertools import product\n",
    "import datetime\n",
    "import matplotlib.pyplot as plt\n",
    "import matplotlib.dates as mdates\n",
    "\n",
    "played = datetime.datetime.now() - datetime.datetime(2018, 7, 10)\n",
    "print(\"{} days in game.\".format(played.days))"
   ]
  },
  {
   "cell_type": "code",
   "execution_count": 20,
   "metadata": {},
   "outputs": [],
   "source": [
    "content = \"\"\n",
    "for name in os.listdir(\".\"):\n",
    "    if name.startswith(\"游戏记录\"):\n",
    "        with open(name, \"r\", -1, \"UTF-8\") as fl:\n",
    "            content += fl.read() + \"\\n\\n\""
   ]
  },
  {
   "cell_type": "code",
   "execution_count": 21,
   "metadata": {},
   "outputs": [],
   "source": [
    "def plot_history(item_id=0):\n",
    "    check = {\n",
    "        0: \"出击次数\",\n",
    "        1: \"油\",\n",
    "        2: \"物资\",\n",
    "        3: \"当前钻石\",\n",
    "        4: \"魔方\"\n",
    "    }[item_id]\n",
    "    default = {\"year\": 2018, \"month\": 1, \"day\": 1}\n",
    "    time_formats = [\n",
    "        r\"(?P<year>\\d{4})\\.(?P<month>\\d+)\\.(?P<day>\\d+) (?P<hour>\\d+):(?P<minute>\\d+)\",\n",
    "        r\"(?P<year>\\d{2})\\.(?P<month>\\d+)\\.(?P<day>\\d+) (?P<hour>\\d+):(?P<minute>\\d+)\",\n",
    "        r\"(?P<month>\\d+)\\.(?P<day>\\d+) (?P<hour>\\d+):(?P<minute>\\d+)\",\n",
    "        r\"(?P<year>\\d{4})\\.(?P<month>\\d+)\\.(?P<day>\\d+)\",\n",
    "        r\"(?P<year>\\d{2})\\.(?P<month>\\d+)\\.(?P<day>\\d+)\",\n",
    "        r\"(?P<hour>\\d+):(?P<minute>\\d+)\",\n",
    "    ]\n",
    "    def get_date_time(text):\n",
    "        for fmt in time_formats:\n",
    "            res = re.search(fmt, text)\n",
    "            if res:\n",
    "                default.update({k: int(v) for k, v in res.groupdict().items()})\n",
    "    #             print(text, default)\n",
    "                if default[\"year\"] < 100:\n",
    "                    default[\"year\"] += 2000\n",
    "                return datetime.datetime(**default)\n",
    "    #     print(text, None)\n",
    "        return None\n",
    "\n",
    "    items = re.sub(\"[\\r\\n]{2,}\", \"\\n\\n\", content).split(\"\\n\\n\")\n",
    "    xs = []\n",
    "    ys = []\n",
    "    for item in items:\n",
    "        now = get_date_time(item)\n",
    "        count = re.search(\"%s ?(\\d+)\" % check, item)\n",
    "        if count and now:\n",
    "            count = int(count.group(1))\n",
    "            xs.append(now)\n",
    "            ys.append(count)\n",
    "\n",
    "    plt.gca().xaxis.set_major_formatter(mdates.DateFormatter('%m-%d'))\n",
    "    plt.plot(xs, ys)\n",
    "    plt.title(check)\n",
    "    plt.show()"
   ]
  },
  {
   "cell_type": "code",
   "execution_count": 27,
   "metadata": {},
   "outputs": [
    {
     "data": {
      "image/png": "[encoded data removed]",
      "text/plain": [
       "<Figure size 432x288 with 1 Axes>"
      ]
     },
     "metadata": {},
     "output_type": "display_data"
    }
   ],
   "source": [
    "plot_history(0)"
   ]
  },
  {
   "cell_type": "code",
   "execution_count": 28,
   "metadata": {},
   "outputs": [
    {
     "name": "stdout",
     "output_type": "stream",
     "text": [
      "41天, 9400出击, 平均每天229.3出击\n"
     ]
    }
   ],
   "source": [
    "for item in reversed(items):\n",
    "    now = get_date_time(item)\n",
    "    count = re.search(\"出击次数 ?(\\d+)\", item)\n",
    "    if count and now:\n",
    "        count = int(count.group(1))\n",
    "        days = (now - datetime.datetime(2018, 7, 10)).days\n",
    "        break\n",
    "print(\"{2}天, {1}出击, 平均每天{0:.1f}出击\".format(count / days, count, days))"
   ]
  },
  {
   "cell_type": "code",
   "execution_count": 10,
   "metadata": {
    "scrolled": true
   },
   "outputs": [
    {
     "name": "stdout",
     "output_type": "stream",
     "text": [
      "2018-08-17 22:54\n"
     ]
    }
   ],
   "source": [
    "print(\"{:%Y-%m-%d %H:%M}\".format(datetime.datetime.now() + datetime.timedelta(hours=8)))"
   ]
  },
  {
   "cell_type": "code",
   "execution_count": 3,
   "metadata": {
    "collapsed": true
   },
   "outputs": [],
   "source": [
    "def get_time(s):\n",
    "    each = [int(p) for p in s.split(\":\")]\n",
    "    minutes = np.dot(each, [60, 1])\n",
    "    return minutes"
   ]
  },
  {
   "cell_type": "code",
   "execution_count": 7,
   "metadata": {},
   "outputs": [
    {
     "name": "stdout",
     "output_type": "stream",
     "text": [
      "05:42 101.0次\n",
      "3.4min/次\n"
     ]
    }
   ],
   "source": [
    "map_count = (8276 - 8175)\n",
    "time_passed = datetime.datetime(2018, 8, 14, 22, 54) - datetime.datetime(2018, 8, 14, 17, 12)\n",
    "minutes = time_passed.seconds // 60\n",
    "print(\"{:02d}:{:02d} {:.1f}次\\n{:.1f}min/次\".format(minutes // 60, minutes % 60, map_count, minutes / map_count))"
   ]
  },
  {
   "cell_type": "code",
   "execution_count": 21,
   "metadata": {},
   "outputs": [
    {
     "name": "stdout",
     "output_type": "stream",
     "text": [
      "平均需要67次\n",
      "为确保95.06%的几率获得, 需要199次\n"
     ]
    }
   ],
   "source": [
    "p_get_per_run = 1.5 / 100\n",
    "assured_p = 0.95\n",
    "max_n = 1000\n",
    "\n",
    "p_not_get_per_run = 1 - p_get_per_run\n",
    "n = math.ceil(math.log(1 - assured_p) / math.log(p_not_get_per_run))\n",
    "p_get_wanted_in_n = 1 - p_not_get_per_run ** n\n",
    "\n",
    "average = math.ceil(1 / p_get_per_run)\n",
    "print(\"\"\"\n",
    "平均需要{0}次\n",
    "为确保{2:.2%}的几率获得, 需要{1}次\n",
    "\"\"\".strip().format(average, n, p_get_wanted_in_n))"
   ]
  },
  {
   "cell_type": "code",
   "execution_count": 12,
   "metadata": {},
   "outputs": [
    {
     "name": "stdout",
     "output_type": "stream",
     "text": [
      "exp_gain/time_cost = 50.941\n",
      "drop_gain/time_cost = 0.143\n",
      "exp_gain/oil_cost = 119.661\n",
      "drop_gain/oil_cost = 0.336\n"
     ]
    }
   ],
   "source": [
    "context = {\n",
    "    \"road_count\": 4,\n",
    "    \"time_road\": 30,\n",
    "    \"time_move\": 30,\n",
    "    \"time_boss\": 80,\n",
    "\n",
    "    \"oil_road\": [9,4,2,9,1],\n",
    "    \"oil_boss\": [11,9,8,4,7],\n",
    "\n",
    "    \"exp_road\": 514,\n",
    "    \"exp_boss\": 687,\n",
    "\n",
    "    \"drop_all\": 0,\n",
    "    \"drop_boss\": 50,\n",
    "}\n",
    "def get(key, default=0):\n",
    "    return context.get(key, default)\n",
    "\n",
    "def exp_bonus(oil):\n",
    "    bonus = [1.5, 2]\n",
    "    for i in oil[2:]:\n",
    "        bonus.append(1)\n",
    "    return sum(bonus)\n",
    "    \n",
    "context[\"time_cost\"] = get(\"road_count\") * get(\"time_road\") + (get(\"road_count\") + 1) * get(\"time_move\") + get(\"time_boss\")\n",
    "context[\"oil_cost\"] = get(\"oil_enter\", 10) + sum(get(\"oil_road\")) * get(\"road_count\") + sum(get(\"oil_boss\"))\n",
    "context[\"exp_gain\"] = get(\"exp_road\") * exp_bonus(get(\"oil_road\")) * get(\"road_count\") + get(\"exp_boss\") * exp_bonus(get(\"oil_boss\"))\n",
    "context[\"drop_gain\"] = get(\"drop_all\") * (get(\"road_count\") + 1) + get(\"drop_boss\")\n",
    "\n",
    "\n",
    "for a, b in product([\"time_cost\", \"oil_cost\"], [\"exp_gain\", \"drop_gain\"]):\n",
    "    print(\"{}/{} = {:.3f}\".format(b, a, get(b)/get(a)))"
   ]
  },
  {
   "cell_type": "code",
   "execution_count": 15,
   "metadata": {},
   "outputs": [
    {
     "data": {
      "text/plain": [
       "963.1972397929845"
      ]
     },
     "execution_count": 15,
     "metadata": {},
     "output_type": "execute_result"
    }
   ],
   "source": [
    "(1000000-497500)/((380*2+338*2+303)*1.2*1.5) * 5 * 6/5"
   ]
  },
  {
   "cell_type": "code",
   "execution_count": 11,
   "metadata": {},
   "outputs": [
    {
     "data": {
      "text/plain": [
       "380.0"
      ]
     },
     "execution_count": 11,
     "metadata": {},
     "output_type": "execute_result"
    }
   ],
   "source": [
    "684/1.5/1.2"
   ]
  },
  {
   "cell_type": "code",
   "execution_count": 119,
   "metadata": {},
   "outputs": [
    {
     "name": "stdout",
     "output_type": "stream",
     "text": [
      "54.32879377431907\n",
      "176.63748378728926\n"
     ]
    }
   ],
   "source": [
    "for i in [\n",
    "# 罗德尼\n",
    "(132000-81735)/ (514*1.5*1.2),\n",
    "# Z23\n",
    "((40000-14100) + (1000000 - 808000)) / (514*2*1.2)\n",
    "]:\n",
    "    print(i)"
   ]
  },
  {
   "cell_type": "code",
   "execution_count": 117,
   "metadata": {},
   "outputs": [
    {
     "data": {
      "text/plain": [
       "851"
      ]
     },
     "execution_count": 117,
     "metadata": {},
     "output_type": "execute_result"
    }
   ],
   "source": [
    "(132000-131149)"
   ]
  },
  {
   "cell_type": "code",
   "execution_count": 73,
   "metadata": {},
   "outputs": [
    {
     "name": "stdout",
     "output_type": "stream",
     "text": [
      "2018-07-27 14:18:49.925711\n"
     ]
    }
   ],
   "source": [
    "start = datetime.datetime.now()\n",
    "print(start)"
   ]
  },
  {
   "cell_type": "code",
   "execution_count": 130,
   "metadata": {},
   "outputs": [
    {
     "name": "stdout",
     "output_type": "stream",
     "text": [
      "2018-07-29 11:51:31.594240\n",
      "0:11:32.602032\n"
     ]
    }
   ],
   "source": [
    "end = datetime.datetime.now()\n",
    "print(end)\n",
    "print(end  - start)"
   ]
  },
  {
   "cell_type": "code",
   "execution_count": 86,
   "metadata": {},
   "outputs": [
    {
     "name": "stdout",
     "output_type": "stream",
     "text": [
      "2018-07-27 14:26:56.795580\n",
      "0:08:06.869869\n"
     ]
    }
   ],
   "source": [
    "end = datetime.datetime.now()\n",
    "print(end)\n",
    "print(end  - start)"
   ]
  },
  {
   "cell_type": "code",
   "execution_count": 92,
   "metadata": {},
   "outputs": [
    {
     "name": "stdout",
     "output_type": "stream",
     "text": [
      "2018-07-27 14:49:01.717170\n",
      "0:30:11.791459\n"
     ]
    }
   ],
   "source": [
    "end = datetime.datetime.now()\n",
    "print(end)\n",
    "print(end  - start)"
   ]
  },
  {
   "cell_type": "code",
   "execution_count": 85,
   "metadata": {},
   "outputs": [
    {
     "data": {
      "text/plain": [
       "7.833333333333333"
      ]
     },
     "execution_count": 85,
     "metadata": {},
     "output_type": "execute_result"
    }
   ],
   "source": [
    "(60*4+30*5+80)/60"
   ]
  },
  {
   "cell_type": "code",
   "execution_count": 87,
   "metadata": {},
   "outputs": [
    {
     "name": "stdout",
     "output_type": "stream",
     "text": [
      "2018-07-27 14:27:07.742881\n",
      "0:08:17.817170\n"
     ]
    }
   ],
   "source": [
    "end = datetime.datetime.now()\n",
    "print(end)\n",
    "print(end  - start)"
   ]
  },
  {
   "cell_type": "code",
   "execution_count": 88,
   "metadata": {},
   "outputs": [
    {
     "data": {
      "text/plain": [
       "7.5"
      ]
     },
     "execution_count": 88,
     "metadata": {},
     "output_type": "execute_result"
    }
   ],
   "source": [
    "60/8"
   ]
  },
  {
   "cell_type": "code",
   "execution_count": null,
   "metadata": {},
   "outputs": [
    {
     "data": {
      "text/plain": [
       "1450"
      ]
     },
     "execution_count": 10,
     "metadata": {},
     "output_type": "execute_result"
    }
   ],
   "source": [
    "4400-2950"
   ]
  },
  {
   "cell_type": "code",
   "execution_count": 8,
   "metadata": {},
   "outputs": [
    {
     "name": "stdout",
     "output_type": "stream",
     "text": [
      "0.180 =4.5/25@[7, 10, 8]\n",
      "0.190 =5.5/29@[7, 10, 8, 4]\n",
      "0.262 =5.5/21@[8, 5, 5, 3]\n",
      "0.250 =5.5/22@[8, 5, 5, 4]\n"
     ]
    }
   ],
   "source": [
    "bonus_ratio([7,10,8,]);\n",
    "bonus_ratio([7,10,8,4]);\n",
    "bonus_ratio([8,5,5,3]);\n",
    "bonus_ratio([8,5,5,4]);"
   ]
  },
  {
   "cell_type": "code",
   "execution_count": 13,
   "metadata": {
    "collapsed": true
   },
   "outputs": [],
   "source": [
    "def get_exp_bonus(oil_fight):\n",
    "    bonus = [1.5, 2]\n",
    "    for i in oil_fight[2:]:\n",
    "        bonus.append(1)\n",
    "    return np.array(bonus)\n",
    "\n",
    "def get_ratio(oil_fight, oil_enter, exp_base, exp_boss, base_min, base_max, **kwargs):\n",
    "    \"\"\"给出油耗信息、关卡经验信息，计算经验/油耗比\"\"\"\n",
    "    bonus = get_exp_bonus(oil_fight)\n",
    "    print(\"单次油耗{} 平均油耗{:.1f} 增益/油耗比{:.2f}\".format(np.sum(oil_fight), np.mean(oil_fight), bonus.sum()/np.sum(oil_fight)))\n",
    "    for count in range(base_min, base_max+1):\n",
    "        exp = (exp_base * count + exp_boss) * bonus.sum()\n",
    "        oil = oil_enter + np.sum(oil_fight) * (count + 1)\n",
    "        print(\"{}次，经验{:.0f}/油耗{} = {:.1f}\".format(count, exp, oil, exp/oil))\n",
    "    print()\n",
    "\n",
    "def bonus_ratio(oil_fight):\n",
    "    bonus = get_exp_bonus(oil_fight).sum()\n",
    "    oil_all = np.sum(oil_fight)\n",
    "    print(\"{:.3f} ={:.1f}/{:.0f}@{}\".format(bonus / oil_all, bonus, oil_all, oil_fight))\n",
    "    return bonus / oil_all\n",
    "    \n",
    "def next_ratio(exp_history, oil_history, exp_next, oil_next=None, use_size=True):\n",
    "    \"\"\"给出当前战斗历史，判断是否继续道中战斗\"\"\"\n",
    "    oil_consume = 10\n",
    "    exp_gain = 0\n",
    "    size_exp = np.array([0, 1, 1.1, 1.2]) * 100\n",
    "    \n",
    "    if not isinstance(exp_history, (list, tuple)):\n",
    "        exp_history = [exp_history]\n",
    "        \n",
    "    if not isinstance(oil_history, (list, tuple)):\n",
    "        # 历史油耗信息为数值形式，则认为历史战斗的油耗均为该数值\n",
    "        oil_history = [oil_history for _ in exp_history]\n",
    "    print(exp_history, oil_history)\n",
    "    for exp, oil in zip(exp_history, oil_history):\n",
    "        oil_consume += oil\n",
    "        if use_size:\n",
    "            exp_gain += size_exp[exp]\n",
    "        else:\n",
    "            exp_gain += exp\n",
    "    ratio_now = exp_gain / oil_consume\n",
    "    \n",
    "    if not isinstance(exp_next, (list, tuple)):\n",
    "        exp_next = [exp_next]\n",
    "    \n",
    "    if oil_next is None:\n",
    "        # 未提供此后的油耗信息，则认为之后的油耗与上次战斗相同\n",
    "        oil_next = [oil_history[-1] for _ in exp_next]\n",
    "    elif not isinstance(oil_next, (list, tuple)):\n",
    "        # 油耗信息为数值形式，则认为之后的油耗均为该数值\n",
    "        oil_next = [oil_next for _ in exp_next]\n",
    "\n",
    "    for exp, oil in zip(exp_next, oil_next):\n",
    "        oil_consume += oil\n",
    "        if use_size:\n",
    "            exp_gain += size_exp[exp]\n",
    "        else:\n",
    "            exp_gain += exp\n",
    "\n",
    "    ratio = exp_gain / oil_consume\n",
    "    print(\"{!s:>5}: {:.2f} vs. {:.2f}\".format(ratio >= ratio_now, ratio_now, ratio))"
   ]
  },
  {
   "cell_type": "code",
   "execution_count": 14,
   "metadata": {},
   "outputs": [
    {
     "name": "stdout",
     "output_type": "stream",
     "text": [
      "1: 0.000=0/22(back) or 0.000=0/36(boss)\n",
      "2: 0.000=0/34(back) or 0.000=0/48(boss)\n",
      "3: 0.000=0/46(back) or 0.000=0/60(boss)\n",
      "4: 0.000=0/58(back) or 0.000=0/72(boss)\n",
      "5: 0.000=0/70(back) or 0.000=0/84(boss)\n"
     ]
    }
   ],
   "source": [
    "cost = {\n",
    "    \"Enter\": 10,\n",
    "    \"Normal\": 12,\n",
    "    \"Boss\": 14,\n",
    "}\n",
    "weight = {\n",
    "    \"NormalDrop\": 0,\n",
    "    \"AllDrop\": 1,\n",
    "    \"BossDrop\": 1,\n",
    "    \"Exp\": 1,\n",
    "}\n",
    "\n",
    "def gain_cost_compare(weight, cost):\n",
    "    consumed = cost.get(\"Enter\", 10)\n",
    "    gain = 0\n",
    "    normal_cost = cost.get(\"Normal\")\n",
    "    for i in range(1, 6):\n",
    "        consumed += normal_cost\n",
    "        gain += weight.get(\"Normal\", 0)\n",
    "#         if i < 3:\n",
    "#             continue\n",
    "#         print(\"{0}: {3:.3f}={1:.0f}/{2:.0f}\".format(i, gain, consumed, gain / consumed))\n",
    "        final_gain = gain + weight.get(\"Boss\", 0)\n",
    "        final_consumed = consumed + cost.get(\"Boss\", normal_cost)\n",
    "        ratio = final_gain / final_consumed\n",
    "        print(\"{0}: {3:.3f}={1:.0f}/{2:.0f}(back) or {6:.3f}={4:.0f}/{5:.0f}(boss)\".format(i, gain, consumed, gain / consumed, final_gain, final_consumed, ratio))\n",
    "        \n",
    "gain_cost_compare(weight, cost)"
   ]
  },
  {
   "cell_type": "code",
   "execution_count": 31,
   "metadata": {},
   "outputs": [
    {
     "name": "stdout",
     "output_type": "stream",
     "text": [
      "1: 21.233=637/30(back) or 31.483=1889/60(boss)\n",
      "2: 25.480=1274/50(back) or 31.575=2526/80(boss)\n",
      "3: 27.300=1911/70(back) or 31.630=3163/100(boss)\n",
      "4: 28.311=2548/90(back) or 31.667=3800/120(boss)\n",
      "5: 28.955=3185/110(back) or 31.693=4437/140(boss)\n"
     ]
    }
   ],
   "source": [
    "map_3_4 = {\n",
    "    \"cost\": {\n",
    "        \"Enter\": 10,\n",
    "        \"Normal\": 20,\n",
    "        \"Boss\": 30,\n",
    "    },\n",
    "    \"weight\": {\n",
    "        \"Normal\": 337 + 300,\n",
    "        \"Boss\": 452 + 300 + 500, \n",
    "    }\n",
    "}\n",
    "gain_cost_compare(**map_3_4)"
   ]
  },
  {
   "cell_type": "code",
   "execution_count": 37,
   "metadata": {},
   "outputs": [
    {
     "name": "stdout",
     "output_type": "stream",
     "text": [
      "0.260 =6.5/25@[9, 4, 9, 1, 2]\n",
      "0.234 =7.5/32@[9, 4, 7, 9, 1, 2]\n"
     ]
    },
    {
     "data": {
      "text/plain": [
       "0.234375"
      ]
     },
     "execution_count": 37,
     "metadata": {},
     "output_type": "execute_result"
    }
   ],
   "source": [
    "bonus_ratio([9,4,9,1,2])\n",
    "bonus_ratio([9,4,7,9,1,2])"
   ]
  },
  {
   "cell_type": "code",
   "execution_count": 37,
   "metadata": {},
   "outputs": [
    {
     "name": "stdout",
     "output_type": "stream",
     "text": [
      "89.75=12027/134\n",
      "88.68=11174/126\n",
      "93.11=11174/120\n",
      "92.15=10321/112\n",
      "76.82=11600/151\n"
     ]
    }
   ],
   "source": [
    "builds =[\n",
    "    [[19, 3], [48, 3+1+1]],\n",
    "    [[19, 3], [48-8, 3+1]],\n",
    "    [[19, 3], [48-14, 3+1]],\n",
    "    [[19, 3], [48-14-8, 3]],\n",
    "    \n",
    "    [[24, 3], [45, 2+1.5+1]],\n",
    "]\n",
    "\n",
    "def get_ratio(build):\n",
    "    cost = 10 + build[0][0] * 4 + build[1][0]\n",
    "    gain = build[0][1] * (2 * 588 + 2 * 588 * 1.2) + build[1][1] * 853\n",
    "    print(\"{:.2f}={:5.0f}/{:2.0f}\".format(gain/cost, gain, cost))\n",
    "\n",
    "for build in builds:\n",
    "    get_ratio(build)"
   ]
  },
  {
   "cell_type": "code",
   "execution_count": 68,
   "metadata": {},
   "outputs": [
    {
     "name": "stdout",
     "output_type": "stream",
     "text": [
      "0.361 =6.5/18@[7, 7, 2, 1, 1]\n",
      "0.395 =7.5/19@[7, 7, 2, 1, 1, 1]\n",
      "0.375 =7.5/20@[7, 7, 2, 1, 1, 2]\n",
      "0.357 =7.5/21@[7, 7, 2, 1, 1, 3]\n"
     ]
    }
   ],
   "source": [
    "current = [7,7,2,1,1]\n",
    "r0 = bonus_ratio(current)\n",
    "for i in range(1, 9):\n",
    "    r = bonus_ratio(current + [i])\n",
    "    if r < r0:\n",
    "        break"
   ]
  },
  {
   "cell_type": "code",
   "execution_count": 69,
   "metadata": {},
   "outputs": [
    {
     "name": "stdout",
     "output_type": "stream",
     "text": [
      "0.325 =6.5/20@[6, 4, 4, 3, 3]\n",
      "0.357 =7.5/21@[6, 4, 4, 3, 3, 1]\n",
      "0.341 =7.5/22@[6, 4, 4, 3, 3, 2]\n",
      "0.326 =7.5/23@[6, 4, 4, 3, 3, 3]\n",
      "0.312 =7.5/24@[6, 4, 4, 3, 3, 4]\n"
     ]
    }
   ],
   "source": [
    "current = [6,4,4,3,3]\n",
    "r0 = bonus_ratio(current)\n",
    "for i in range(1, 9):\n",
    "    r = bonus_ratio(current + [i])\n",
    "    if r < r0:\n",
    "        break"
   ]
  },
  {
   "cell_type": "code",
   "execution_count": 70,
   "metadata": {},
   "outputs": [
    {
     "data": {
      "text/plain": [
       "96"
      ]
     },
     "execution_count": 70,
     "metadata": {},
     "output_type": "execute_result"
    }
   ],
   "source": [
    "10+3*23+1*17"
   ]
  },
  {
   "cell_type": "code",
   "execution_count": 57,
   "metadata": {},
   "outputs": [
    {
     "name": "stdout",
     "output_type": "stream",
     "text": [
      "0.219 =3.5/16@[7, 9]\n",
      "0.250 =4.5/18@[7, 9, 2]\n",
      "0.289 =5.5/19@[7, 9, 2, 1]\n"
     ]
    }
   ],
   "source": [
    "bonus_ratio([7,9])\n",
    "bonus_ratio([7,9,2])\n",
    "bonus_ratio([7,9,2,1])"
   ]
  },
  {
   "cell_type": "code",
   "execution_count": 82,
   "metadata": {},
   "outputs": [
    {
     "name": "stdout",
     "output_type": "stream",
     "text": [
      "0.875 =3.5/4@[3, 1]\n",
      "0.900 =4.5/5@[3, 1, 1]\n",
      "0.917 =5.5/6@[3, 1, 1, 1]\n",
      "0.722 =6.5/9@[3, 3, 1, 1, 1]\n"
     ]
    },
    {
     "data": {
      "text/plain": [
       "0.7222222222222222"
      ]
     },
     "execution_count": 82,
     "metadata": {},
     "output_type": "execute_result"
    }
   ],
   "source": [
    "bonus_ratio([3,1])\n",
    "bonus_ratio([3,1,1])\n",
    "bonus_ratio([3,1,1,1])\n",
    "bonus_ratio([3,3,1,1,1])"
   ]
  },
  {
   "cell_type": "code",
   "execution_count": null,
   "metadata": {
    "collapsed": true
   },
   "outputs": [],
   "source": []
  },
  {
   "cell_type": "code",
   "execution_count": 53,
   "metadata": {},
   "outputs": [
    {
     "name": "stdout",
     "output_type": "stream",
     "text": [
      "0.382 =6.5/17@[7, 7, 1, 1, 1]\n"
     ]
    }
   ],
   "source": [
    "bonus_ratio([7,7,1,1,1])"
   ]
  },
  {
   "cell_type": "code",
   "execution_count": 74,
   "metadata": {},
   "outputs": [
    {
     "name": "stdout",
     "output_type": "stream",
     "text": [
      "[3, 3, 2, 2] [23, 23, 23, 23]\n",
      "False: 4.51 vs. 4.48\n"
     ]
    }
   ],
   "source": [
    "next_ratio([3,3,2,2], 23, [1])"
   ]
  },
  {
   "cell_type": "code",
   "execution_count": 46,
   "metadata": {},
   "outputs": [
    {
     "name": "stdout",
     "output_type": "stream",
     "text": [
      "1: 25.026=976/39(back) or 23.834=2121/89(boss)\n",
      "2: 28.706=1952/68(back) or 26.247=3097/118(boss)\n",
      "3: 30.186=2928/97(back) or 27.709=4073/147(boss)\n",
      "4: 30.984=3904/126(back) or 28.689=5049/176(boss)\n",
      "5: 31.484=4880/155(back) or 29.391=6025/205(boss)\n"
     ]
    }
   ],
   "source": [
    "map_sp3 = {\n",
    "    \"cost\": {\n",
    "        \"Enter\": 10,\n",
    "        \"Normal\": 29,\n",
    "        \"Boss\": 50,\n",
    "    },\n",
    "    \"weight\": {\n",
    "        \"Normal\": 376 + 300 * 2,\n",
    "        \"Boss\": 376 * 1.45 + 300 * 2, \n",
    "    }\n",
    "}\n",
    "gain_cost_compare(**map_sp3)"
   ]
  },
  {
   "cell_type": "code",
   "execution_count": 189,
   "metadata": {},
   "outputs": [
    {
     "name": "stdout",
     "output_type": "stream",
     "text": [
      "[2, 2, 2] [20, 20, 20]\n",
      "False: 4.71 vs. 4.50\n"
     ]
    }
   ],
   "source": [
    "next_ratio([2, 2, 2], 20, [3], 30)"
   ]
  },
  {
   "cell_type": "code",
   "execution_count": 164,
   "metadata": {},
   "outputs": [
    {
     "name": "stdout",
     "output_type": "stream",
     "text": [
      "[2, 3, 3] [23, 23, 23]\n",
      " True: 4.43 vs. 4.48\n"
     ]
    }
   ],
   "source": [
    "next_ratio([2, 3, 3], 23, [1, 2])"
   ]
  },
  {
   "cell_type": "code",
   "execution_count": 165,
   "metadata": {},
   "outputs": [
    {
     "name": "stdout",
     "output_type": "stream",
     "text": [
      "[2] [2, 3, 3]\n",
      " True: 9.17 vs. 20.00\n"
     ]
    }
   ],
   "source": [
    "next_ratio(2, [2, 3, 3], [1, 2, 1])"
   ]
  },
  {
   "cell_type": "code",
   "execution_count": 137,
   "metadata": {},
   "outputs": [
    {
     "name": "stdout",
     "output_type": "stream",
     "text": [
      "False: 4.48 vs. 4.46\n"
     ]
    }
   ],
   "source": [
    "next_ratio(23, [2, 3, 3, 1, 2], [1])"
   ]
  },
  {
   "cell_type": "code",
   "execution_count": 83,
   "metadata": {},
   "outputs": [
    {
     "name": "stdout",
     "output_type": "stream",
     "text": [
      "单次油耗23 平均油耗3.8 增益/油耗比0.33\n",
      "3次，经验9183/油耗102 = 90.0\n",
      "4次，经验11410/油耗125 = 91.3\n",
      "5次，经验13638/油耗148 = 92.1\n",
      "6次，经验15865/油耗171 = 92.8\n",
      "\n"
     ]
    }
   ],
   "source": [
    "target = {\n",
    "    \"name\": \"3-2\",\n",
    "    \"exp_base\": 270 * 1.1,\n",
    "    \"exp_boss\": 400 / 1.2,\n",
    "    \"base_min\": 3,\n",
    "    \"base_max\": 6,\n",
    "    \"oil_enter\": 10\n",
    "}\n",
    "get_ratio([8, 6, 3, 2, 2, 2], **target)"
   ]
  },
  {
   "cell_type": "code",
   "execution_count": 86,
   "metadata": {},
   "outputs": [
    {
     "name": "stdout",
     "output_type": "stream",
     "text": [
      "单次油耗5 平均油耗2.5 增益/油耗比0.70\n",
      "3次，经验4518/油耗30 = 150.6\n",
      "4次，经验5558/油耗35 = 158.8\n",
      "5次，经验6598/油耗40 = 164.9\n",
      "6次，经验7637/油耗45 = 169.7\n",
      "\n",
      "单次油耗6 平均油耗2.0 增益/油耗比0.75\n",
      "3次，经验5810/油耗34 = 170.9\n",
      "4次，经验7146/油耗40 = 178.7\n",
      "5次，经验8482/油耗46 = 184.4\n",
      "6次，经验9819/油耗52 = 188.8\n",
      "\n"
     ]
    }
   ],
   "source": [
    "get_ratio([3, 2], **target)\n",
    "get_ratio([3, 2, 1], **target)"
   ]
  },
  {
   "cell_type": "code",
   "execution_count": 15,
   "metadata": {},
   "outputs": [
    {
     "name": "stdout",
     "output_type": "stream",
     "text": [
      "0.583 =3.5/6@[3, 3]\n",
      "0.562 =4.5/8@[3, 3, 2]\n",
      "0.550 =5.5/10@[3, 3, 2, 2]\n",
      "0.611 =5.5/9@[3, 3, 2, 1]\n",
      "0.688 =5.5/8@[3, 3, 1, 1]\n",
      "0.643 =4.5/7@[3, 3, 1]\n",
      "[1, 2, 1] [9, 9, 9]\n",
      "False: 8.38 vs. 7.45\n"
     ]
    }
   ],
   "source": [
    "bonus_ratio([3, 3])\n",
    "bonus_ratio([3, 3, 2])\n",
    "bonus_ratio([3, 3, 2, 2])\n",
    "bonus_ratio([3, 3, 2, 1])\n",
    "bonus_ratio([3, 3, 1, 1])\n",
    "bonus_ratio([3, 3, 1,])\n",
    "\n",
    "next_ratio([1, 2, 1], 9, [0, 1])"
   ]
  },
  {
   "cell_type": "code",
   "execution_count": 170,
   "metadata": {},
   "outputs": [
    {
     "name": "stdout",
     "output_type": "stream",
     "text": [
      "0.357 =7.5/21@[6, 6, 5, 1, 1, 2]\n",
      "0.375 =7.5/20@[6, 3, 3, 4, 2, 2]\n"
     ]
    }
   ],
   "source": [
    "bonus_ratio([6,6,5,1,1,2])\n",
    "\n",
    "bonus_ratio([6,3,3,4,2,2])"
   ]
  },
  {
   "cell_type": "code",
   "execution_count": 181,
   "metadata": {},
   "outputs": [
    {
     "name": "stdout",
     "output_type": "stream",
     "text": [
      "[11, 11, 11] [20, 20, 20]\n",
      " True: 0.47 vs. 0.48\n"
     ]
    }
   ],
   "source": [
    "next_ratio([11, 11, 11], 20, [11], 21, False)"
   ]
  },
  {
   "cell_type": "code",
   "execution_count": 182,
   "metadata": {},
   "outputs": [
    {
     "data": {
      "text/plain": [
       "91"
      ]
     },
     "execution_count": 182,
     "metadata": {},
     "output_type": "execute_result"
    }
   ],
   "source": [
    "10+20*3+21"
   ]
  },
  {
   "cell_type": "code",
   "execution_count": 84,
   "metadata": {},
   "outputs": [
    {
     "name": "stdout",
     "output_type": "stream",
     "text": [
      "单次油耗14 平均油耗7.0 增益/油耗比0.25\n",
      "3次，经验4518/油耗66 = 68.5\n",
      "4次，经验5558/油耗80 = 69.5\n",
      "5次，经验6598/油耗94 = 70.2\n",
      "6次，经验7637/油耗108 = 70.7\n",
      "\n"
     ]
    }
   ],
   "source": [
    "target = {\n",
    "    \"name\": \"3-2\",\n",
    "    \"exp_base\": 270 * 1.1,\n",
    "    \"exp_boss\": 400,\n",
    "    \"base_min\": 3,\n",
    "    \"base_max\": 6,\n",
    "    \"oil_enter\": 10\n",
    "}\n",
    "get_ratio([8, 6], **target)"
   ]
  },
  {
   "cell_type": "code",
   "execution_count": null,
   "metadata": {
    "collapsed": true
   },
   "outputs": [],
   "source": []
  },
  {
   "cell_type": "code",
   "execution_count": 54,
   "metadata": {},
   "outputs": [
    {
     "name": "stdout",
     "output_type": "stream",
     "text": [
      "[1 1] 2\n",
      "平均增益1.75 平均油耗2.00 增益/油耗比1.75 A胜1.46\n",
      "[1 1 1] 3\n",
      "平均增益1.50 平均油耗2.00 增益/油耗比1.50 A胜1.25\n",
      "[1 1 1 1] 4\n",
      "平均增益1.38 平均油耗2.00 增益/油耗比1.38 A胜1.15\n",
      "[1 1 1 1 1] 5\n",
      "平均增益1.30 平均油耗2.00 增益/油耗比1.30 A胜1.08\n",
      "[1 1 1 1 1 1] 6\n",
      "平均增益1.25 平均油耗2.00 增益/油耗比1.25 A胜1.04\n",
      "[2 2] 4\n",
      "平均增益1.75 平均油耗2.00 增益/油耗比0.88 A胜0.73\n",
      "[2 2 1] 5\n",
      "平均增益1.50 平均油耗2.00 增益/油耗比0.90 A胜0.75\n",
      "[8 6] 14\n",
      "平均增益1.75 平均油耗2.00 增益/油耗比0.25 A胜0.21\n",
      "[8 6 2 2 2] 20\n",
      "平均增益1.30 平均油耗2.00 增益/油耗比0.33 A胜0.27\n",
      "[8 6 6 2 2 2] 26\n",
      "平均增益1.25 平均油耗2.00 增益/油耗比0.29 A胜0.24\n",
      "[8 6 3 2 2 2] 23\n",
      "平均增益1.25 平均油耗2.00 增益/油耗比0.33 A胜0.27\n",
      "[2 2 2 2 2 2] 12\n",
      "平均增益1.25 平均油耗2.00 增益/油耗比0.62 A胜0.52\n"
     ]
    }
   ],
   "source": [
    "check = [\n",
    "    [1, 1],\n",
    "    [1, 1, 1],\n",
    "    [1, 1, 1, 1],\n",
    "    [1, 1, 1, 1, 1],\n",
    "    [1, 1, 1, 1, 1, 1],\n",
    "    [2, 2],\n",
    "    [2, 2, 1],\n",
    "    [8, 6],\n",
    "    [8, 6, 2, 2, 2],\n",
    "    [8, 6, 6, 2, 2, 2],\n",
    "    [8, 6, 3, 2, 2, 2],\n",
    "    [2, 2, 2, 2, 2, 2],\n",
    "]\n",
    "for oil in check:\n",
    "    oil = np.array(oil)\n",
    "    print(oil, oil.sum())\n",
    "    bonus = get_exp_bonus(oil)\n",
    "    \n",
    "    ratio = bonus.sum() / oil.sum()\n",
    "    print(\"平均增益{:.2f} 平均油耗{:.2f} 增益/油耗比{:.2f} A胜{:.2f}\".format(bonus.mean(), oil_fight.mean(), ratio, ratio/1.2))"
   ]
  },
  {
   "cell_type": "code",
   "execution_count": 56,
   "metadata": {},
   "outputs": [
    {
     "name": "stdout",
     "output_type": "stream",
     "text": [
      "单次油耗23 平均油耗3.8 增益/油耗比0.33\n",
      "3次，经验9682/油耗102 = 94.9\n",
      "4次，经验11910/油耗125 = 95.3\n",
      "5次，经验14138/油耗148 = 95.5\n",
      "6次，经验16365/油耗171 = 95.7\n",
      "\n"
     ]
    }
   ],
   "source": [
    "Target = {\n",
    "    \"Name\": \"3-2\",\n",
    "    \"exp_base\": 297,\n",
    "    \"exp_boss\": 400,\n",
    "    \"base_min\": 3,\n",
    "    \"base_max\": 6,\n",
    "    \"oil_enter\": 10\n",
    "}\n",
    "\n",
    "oil_fight = [8, 3, 2, 6, 2, 2]\n",
    "current = [1, 3, 3]\n",
    "get_ratio(oil_fight, **Target)"
   ]
  },
  {
   "cell_type": "code",
   "execution_count": 11,
   "metadata": {},
   "outputs": [
    {
     "data": {
      "text/plain": [
       "98.13380281690141"
      ]
     },
     "execution_count": 11,
     "metadata": {},
     "output_type": "execute_result"
    }
   ],
   "source": [
    "(11910+270*get_exp_bonus(oil_fight).sum())/(120+np.sum(oil_fight))"
   ]
  },
  {
   "cell_type": "code",
   "execution_count": 3,
   "metadata": {},
   "outputs": [
    {
     "name": "stdout",
     "output_type": "stream",
     "text": [
      "-6 days left and today as extra 1 day.\n",
      "own 52030 points now, need more 2970 points, and 11420 points from fight\n",
      "    which means 76 map, 13399 oil\n",
      "For each day, need:\n",
      "    -6:55, -2284.00 points, -15.23 map, -2679.89 oil\n",
      "\n"
     ]
    }
   ],
   "source": [
    "ctx = {}\n",
    "ctx[\"gain_now\"] = 52030\n",
    "ctx[\"gain_per_map\"] = 150\n",
    "ctx[\"fight_road\"] = 6\n",
    "ctx[\"oil_road\"] = 21\n",
    "ctx[\"oil_boss\"] = 40\n",
    "ctx[\"minutes_per_map\"] = 20\n",
    "\n",
    "ctx[\"wanted\"] = 47600 - 2000\n",
    "ctx[\"wanted\"] = 55000\n",
    "\n",
    "def get(key, default=0):\n",
    "    return ctx.get(key, default)\n",
    "time_left = datetime.datetime(2018, 8, 9, 9, 0) - datetime.datetime.now()\n",
    "ctx[\"days_left\"] = time_left.days\n",
    "if datetime.datetime.now().hour > 20:\n",
    "    ctx[\"today_left\"] = 0\n",
    "elif datetime.datetime.now().hour > 14:\n",
    "    ctx[\"today_left\"] = 0.5\n",
    "else:\n",
    "    ctx[\"today_left\"] = 1\n",
    "ctx[\"oil_one_map\"] = 10 + get(\"oil_road\") * get(\"fight_road\") + get(\"oil_boss\")\n",
    "ctx[\"gain_each_day\"] = 300+300+100 + (30+40+50+60+70+80) * 3\n",
    "ctx[\"gain_missions\"] = get(\"gain_each_day\") * (get(\"days_left\") + 1)\n",
    "ctx[\"need_more\"] = max(0, get(\"wanted\") - get(\"gain_now\"))\n",
    "ctx[\"gain_from_fight\"] = max(0, get(\"need_more\") - get(\"gain_missions\"))\n",
    "ctx[\"gain_from_fight_per_day\"] = get(\"gain_from_fight\") / (get(\"days_left\") + get(\"today_left\"))\n",
    "ctx[\"map_count\"] = get(\"gain_from_fight\") / get(\"gain_per_map\")\n",
    "ctx[\"oil_count\"] = get(\"oil_one_map\") * get(\"map_count\")\n",
    "ctx[\"map_per_day\"] = get(\"map_count\") / (get(\"days_left\") + get(\"today_left\"))\n",
    "ctx[\"oil_per_day\"] = get(\"oil_one_map\") * get(\"map_per_day\")\n",
    "ctx[\"minutes_per_day\"] = get(\"minutes_per_map\") * get(\"map_per_day\")\n",
    "ctx[\"hour\"] = get(\"minutes_per_day\") // 60\n",
    "ctx[\"minutes\"] = get(\"minutes_per_day\") % 60\n",
    "\n",
    "print(\"\"\"\n",
    "{days_left} days left and today as extra {today_left} day.\n",
    "own {gain_now} points now, need more {need_more} points, and {gain_from_fight} points from fight\n",
    "    which means {map_count:.0f} map, {oil_count:.0f} oil\n",
    "For each day, need:\n",
    "    {hour:02.0f}:{minutes:02.0f}, {gain_from_fight_per_day:.2f} points, {map_per_day:.2f} map, {oil_per_day:.2f} oil\n",
    "\"\"\".strip().format(**ctx))\n",
    "\n",
    "print()\n",
    "dayily = get(\"gain_from_fight_per_day\") + get(\"gain_each_day\")\n",
    "target = get(\"gain_now\") + get(\"gain_from_fight_per_day\") * get(\"today_left\")\n",
    "date = datetime.datetime.now()\n",
    "oneday = datetime.timedelta(days=1)\n",
    "for i in range(get(\"days_left\")+2):\n",
    "    print(\"{0.month}.{0.day}: {1:.0f}\".format(date, target), end=\"; \")\n",
    "    date += oneday\n",
    "    target += dayily"
   ]
  },
  {
   "cell_type": "code",
   "execution_count": null,
   "metadata": {
    "collapsed": true
   },
   "outputs": [],
   "source": []
  }
 ],
 "metadata": {
  "kernelspec": {
   "display_name": "Python 3",
   "language": "python",
   "name": "python3"
  },
  "language_info": {
   "codemirror_mode": {
    "name": "ipython",
    "version": 3
   },
   "file_extension": ".py",
   "mimetype": "text/x-python",
   "name": "python",
   "nbconvert_exporter": "python",
   "pygments_lexer": "ipython3",
   "version": "3.6.5"
  }
 },
 "nbformat": 4,
 "nbformat_minor": 2
}
